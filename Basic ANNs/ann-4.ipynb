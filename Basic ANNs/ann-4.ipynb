{
 "cells": [
  {
   "cell_type": "code",
   "execution_count": 1,
   "metadata": {},
   "outputs": [],
   "source": [
    "import pandas as pd\n",
    "import numpy as np\n",
    "import matplotlib.pyplot as plt\n",
    "import seaborn as sns"
   ]
  },
  {
   "cell_type": "code",
   "execution_count": 2,
   "metadata": {},
   "outputs": [],
   "source": [
    "df = pd.read_csv('../DATA/lending_club_loan_two.csv')"
   ]
  },
  {
   "cell_type": "code",
   "execution_count": 3,
   "metadata": {},
   "outputs": [
    {
     "name": "stdout",
     "output_type": "stream",
     "text": [
      "<class 'pandas.core.frame.DataFrame'>\n",
      "RangeIndex: 396030 entries, 0 to 396029\n",
      "Data columns (total 27 columns):\n",
      "loan_amnt               396030 non-null float64\n",
      "term                    396030 non-null object\n",
      "int_rate                396030 non-null float64\n",
      "installment             396030 non-null float64\n",
      "grade                   396030 non-null object\n",
      "sub_grade               396030 non-null object\n",
      "emp_title               373103 non-null object\n",
      "emp_length              377729 non-null object\n",
      "home_ownership          396030 non-null object\n",
      "annual_inc              396030 non-null float64\n",
      "verification_status     396030 non-null object\n",
      "issue_d                 396030 non-null object\n",
      "loan_status             396030 non-null object\n",
      "purpose                 396030 non-null object\n",
      "title                   394275 non-null object\n",
      "dti                     396030 non-null float64\n",
      "earliest_cr_line        396030 non-null object\n",
      "open_acc                396030 non-null float64\n",
      "pub_rec                 396030 non-null float64\n",
      "revol_bal               396030 non-null float64\n",
      "revol_util              395754 non-null float64\n",
      "total_acc               396030 non-null float64\n",
      "initial_list_status     396030 non-null object\n",
      "application_type        396030 non-null object\n",
      "mort_acc                358235 non-null float64\n",
      "pub_rec_bankruptcies    395495 non-null float64\n",
      "address                 396030 non-null object\n",
      "dtypes: float64(12), object(15)\n",
      "memory usage: 81.6+ MB\n"
     ]
    }
   ],
   "source": [
    "df.info()"
   ]
  },
  {
   "cell_type": "code",
   "execution_count": 4,
   "metadata": {},
   "outputs": [
    {
     "data": {
      "text/html": [
       "<div>\n",
       "<style scoped>\n",
       "    .dataframe tbody tr th:only-of-type {\n",
       "        vertical-align: middle;\n",
       "    }\n",
       "\n",
       "    .dataframe tbody tr th {\n",
       "        vertical-align: top;\n",
       "    }\n",
       "\n",
       "    .dataframe thead th {\n",
       "        text-align: right;\n",
       "    }\n",
       "</style>\n",
       "<table border=\"1\" class=\"dataframe\">\n",
       "  <thead>\n",
       "    <tr style=\"text-align: right;\">\n",
       "      <th></th>\n",
       "      <th>loan_amnt</th>\n",
       "      <th>int_rate</th>\n",
       "      <th>installment</th>\n",
       "      <th>annual_inc</th>\n",
       "      <th>dti</th>\n",
       "      <th>open_acc</th>\n",
       "      <th>pub_rec</th>\n",
       "      <th>revol_bal</th>\n",
       "      <th>revol_util</th>\n",
       "      <th>total_acc</th>\n",
       "      <th>mort_acc</th>\n",
       "      <th>pub_rec_bankruptcies</th>\n",
       "    </tr>\n",
       "  </thead>\n",
       "  <tbody>\n",
       "    <tr>\n",
       "      <th>count</th>\n",
       "      <td>396030.000000</td>\n",
       "      <td>396030.000000</td>\n",
       "      <td>396030.000000</td>\n",
       "      <td>3.960300e+05</td>\n",
       "      <td>396030.000000</td>\n",
       "      <td>396030.000000</td>\n",
       "      <td>396030.000000</td>\n",
       "      <td>3.960300e+05</td>\n",
       "      <td>395754.000000</td>\n",
       "      <td>396030.000000</td>\n",
       "      <td>358235.000000</td>\n",
       "      <td>395495.000000</td>\n",
       "    </tr>\n",
       "    <tr>\n",
       "      <th>mean</th>\n",
       "      <td>14113.888089</td>\n",
       "      <td>13.639400</td>\n",
       "      <td>431.849698</td>\n",
       "      <td>7.420318e+04</td>\n",
       "      <td>17.379514</td>\n",
       "      <td>11.311153</td>\n",
       "      <td>0.178191</td>\n",
       "      <td>1.584454e+04</td>\n",
       "      <td>53.791749</td>\n",
       "      <td>25.414744</td>\n",
       "      <td>1.813991</td>\n",
       "      <td>0.121648</td>\n",
       "    </tr>\n",
       "    <tr>\n",
       "      <th>std</th>\n",
       "      <td>8357.441341</td>\n",
       "      <td>4.472157</td>\n",
       "      <td>250.727790</td>\n",
       "      <td>6.163762e+04</td>\n",
       "      <td>18.019092</td>\n",
       "      <td>5.137649</td>\n",
       "      <td>0.530671</td>\n",
       "      <td>2.059184e+04</td>\n",
       "      <td>24.452193</td>\n",
       "      <td>11.886991</td>\n",
       "      <td>2.147930</td>\n",
       "      <td>0.356174</td>\n",
       "    </tr>\n",
       "    <tr>\n",
       "      <th>min</th>\n",
       "      <td>500.000000</td>\n",
       "      <td>5.320000</td>\n",
       "      <td>16.080000</td>\n",
       "      <td>0.000000e+00</td>\n",
       "      <td>0.000000</td>\n",
       "      <td>0.000000</td>\n",
       "      <td>0.000000</td>\n",
       "      <td>0.000000e+00</td>\n",
       "      <td>0.000000</td>\n",
       "      <td>2.000000</td>\n",
       "      <td>0.000000</td>\n",
       "      <td>0.000000</td>\n",
       "    </tr>\n",
       "    <tr>\n",
       "      <th>25%</th>\n",
       "      <td>8000.000000</td>\n",
       "      <td>10.490000</td>\n",
       "      <td>250.330000</td>\n",
       "      <td>4.500000e+04</td>\n",
       "      <td>11.280000</td>\n",
       "      <td>8.000000</td>\n",
       "      <td>0.000000</td>\n",
       "      <td>6.025000e+03</td>\n",
       "      <td>35.800000</td>\n",
       "      <td>17.000000</td>\n",
       "      <td>0.000000</td>\n",
       "      <td>0.000000</td>\n",
       "    </tr>\n",
       "    <tr>\n",
       "      <th>50%</th>\n",
       "      <td>12000.000000</td>\n",
       "      <td>13.330000</td>\n",
       "      <td>375.430000</td>\n",
       "      <td>6.400000e+04</td>\n",
       "      <td>16.910000</td>\n",
       "      <td>10.000000</td>\n",
       "      <td>0.000000</td>\n",
       "      <td>1.118100e+04</td>\n",
       "      <td>54.800000</td>\n",
       "      <td>24.000000</td>\n",
       "      <td>1.000000</td>\n",
       "      <td>0.000000</td>\n",
       "    </tr>\n",
       "    <tr>\n",
       "      <th>75%</th>\n",
       "      <td>20000.000000</td>\n",
       "      <td>16.490000</td>\n",
       "      <td>567.300000</td>\n",
       "      <td>9.000000e+04</td>\n",
       "      <td>22.980000</td>\n",
       "      <td>14.000000</td>\n",
       "      <td>0.000000</td>\n",
       "      <td>1.962000e+04</td>\n",
       "      <td>72.900000</td>\n",
       "      <td>32.000000</td>\n",
       "      <td>3.000000</td>\n",
       "      <td>0.000000</td>\n",
       "    </tr>\n",
       "    <tr>\n",
       "      <th>max</th>\n",
       "      <td>40000.000000</td>\n",
       "      <td>30.990000</td>\n",
       "      <td>1533.810000</td>\n",
       "      <td>8.706582e+06</td>\n",
       "      <td>9999.000000</td>\n",
       "      <td>90.000000</td>\n",
       "      <td>86.000000</td>\n",
       "      <td>1.743266e+06</td>\n",
       "      <td>892.300000</td>\n",
       "      <td>151.000000</td>\n",
       "      <td>34.000000</td>\n",
       "      <td>8.000000</td>\n",
       "    </tr>\n",
       "  </tbody>\n",
       "</table>\n",
       "</div>"
      ],
      "text/plain": [
       "           loan_amnt       int_rate    installment    annual_inc  \\\n",
       "count  396030.000000  396030.000000  396030.000000  3.960300e+05   \n",
       "mean    14113.888089      13.639400     431.849698  7.420318e+04   \n",
       "std      8357.441341       4.472157     250.727790  6.163762e+04   \n",
       "min       500.000000       5.320000      16.080000  0.000000e+00   \n",
       "25%      8000.000000      10.490000     250.330000  4.500000e+04   \n",
       "50%     12000.000000      13.330000     375.430000  6.400000e+04   \n",
       "75%     20000.000000      16.490000     567.300000  9.000000e+04   \n",
       "max     40000.000000      30.990000    1533.810000  8.706582e+06   \n",
       "\n",
       "                 dti       open_acc        pub_rec     revol_bal  \\\n",
       "count  396030.000000  396030.000000  396030.000000  3.960300e+05   \n",
       "mean       17.379514      11.311153       0.178191  1.584454e+04   \n",
       "std        18.019092       5.137649       0.530671  2.059184e+04   \n",
       "min         0.000000       0.000000       0.000000  0.000000e+00   \n",
       "25%        11.280000       8.000000       0.000000  6.025000e+03   \n",
       "50%        16.910000      10.000000       0.000000  1.118100e+04   \n",
       "75%        22.980000      14.000000       0.000000  1.962000e+04   \n",
       "max      9999.000000      90.000000      86.000000  1.743266e+06   \n",
       "\n",
       "          revol_util      total_acc       mort_acc  pub_rec_bankruptcies  \n",
       "count  395754.000000  396030.000000  358235.000000         395495.000000  \n",
       "mean       53.791749      25.414744       1.813991              0.121648  \n",
       "std        24.452193      11.886991       2.147930              0.356174  \n",
       "min         0.000000       2.000000       0.000000              0.000000  \n",
       "25%        35.800000      17.000000       0.000000              0.000000  \n",
       "50%        54.800000      24.000000       1.000000              0.000000  \n",
       "75%        72.900000      32.000000       3.000000              0.000000  \n",
       "max       892.300000     151.000000      34.000000              8.000000  "
      ]
     },
     "execution_count": 4,
     "metadata": {},
     "output_type": "execute_result"
    }
   ],
   "source": [
    "df.describe()"
   ]
  },
  {
   "cell_type": "code",
   "execution_count": 6,
   "metadata": {},
   "outputs": [
    {
     "data": {
      "text/plain": [
       "<matplotlib.axes._subplots.AxesSubplot at 0x7f903f076f10>"
      ]
     },
     "execution_count": 6,
     "metadata": {},
     "output_type": "execute_result"
    },
    {
     "data": {
      "image/png": "[encoded data removed]",
      "text/plain": [
       "<Figure size 432x288 with 1 Axes>"
      ]
     },
     "metadata": {
      "needs_background": "light"
     },
     "output_type": "display_data"
    }
   ],
   "source": [
    "sns.countplot(x='loan_status', data=df)"
   ]
  },
  {
   "cell_type": "code",
   "execution_count": 7,
   "metadata": {},
   "outputs": [
    {
     "data": {
      "text/plain": [
       "<matplotlib.axes._subplots.AxesSubplot at 0x7f903f047890>"
      ]
     },
     "execution_count": 7,
     "metadata": {},
     "output_type": "execute_result"
    },
    {
     "data": {
      "image/png": "[encoded data removed]",
      "text/plain": [
       "<Figure size 1440x720 with 1 Axes>"
      ]
     },
     "metadata": {
      "needs_background": "light"
     },
     "output_type": "display_data"
    }
   ],
   "source": [
    "plt.figure(figsize=(20, 10))\n",
    "sns.distplot(df['loan_amnt'])"
   ]
  },
  {
   "cell_type": "code",
   "execution_count": 8,
   "metadata": {},
   "outputs": [
    {
     "data": {
      "text/html": [
       "<div>\n",
       "<style scoped>\n",
       "    .dataframe tbody tr th:only-of-type {\n",
       "        vertical-align: middle;\n",
       "    }\n",
       "\n",
       "    .dataframe tbody tr th {\n",
       "        vertical-align: top;\n",
       "    }\n",
       "\n",
       "    .dataframe thead th {\n",
       "        text-align: right;\n",
       "    }\n",
       "</style>\n",
       "<table border=\"1\" class=\"dataframe\">\n",
       "  <thead>\n",
       "    <tr style=\"text-align: right;\">\n",
       "      <th></th>\n",
       "      <th>loan_amnt</th>\n",
       "      <th>int_rate</th>\n",
       "      <th>installment</th>\n",
       "      <th>annual_inc</th>\n",
       "      <th>dti</th>\n",
       "      <th>open_acc</th>\n",
       "      <th>pub_rec</th>\n",
       "      <th>revol_bal</th>\n",
       "      <th>revol_util</th>\n",
       "      <th>total_acc</th>\n",
       "      <th>mort_acc</th>\n",
       "      <th>pub_rec_bankruptcies</th>\n",
       "    </tr>\n",
       "  </thead>\n",
       "  <tbody>\n",
       "    <tr>\n",
       "      <th>loan_amnt</th>\n",
       "      <td>1.000000</td>\n",
       "      <td>0.168921</td>\n",
       "      <td>0.953929</td>\n",
       "      <td>0.336887</td>\n",
       "      <td>0.016636</td>\n",
       "      <td>0.198556</td>\n",
       "      <td>-0.077779</td>\n",
       "      <td>0.328320</td>\n",
       "      <td>0.099911</td>\n",
       "      <td>0.223886</td>\n",
       "      <td>0.222315</td>\n",
       "      <td>-0.106539</td>\n",
       "    </tr>\n",
       "    <tr>\n",
       "      <th>int_rate</th>\n",
       "      <td>0.168921</td>\n",
       "      <td>1.000000</td>\n",
       "      <td>0.162758</td>\n",
       "      <td>-0.056771</td>\n",
       "      <td>0.079038</td>\n",
       "      <td>0.011649</td>\n",
       "      <td>0.060986</td>\n",
       "      <td>-0.011280</td>\n",
       "      <td>0.293659</td>\n",
       "      <td>-0.036404</td>\n",
       "      <td>-0.082583</td>\n",
       "      <td>0.057450</td>\n",
       "    </tr>\n",
       "    <tr>\n",
       "      <th>installment</th>\n",
       "      <td>0.953929</td>\n",
       "      <td>0.162758</td>\n",
       "      <td>1.000000</td>\n",
       "      <td>0.330381</td>\n",
       "      <td>0.015786</td>\n",
       "      <td>0.188973</td>\n",
       "      <td>-0.067892</td>\n",
       "      <td>0.316455</td>\n",
       "      <td>0.123915</td>\n",
       "      <td>0.202430</td>\n",
       "      <td>0.193694</td>\n",
       "      <td>-0.098628</td>\n",
       "    </tr>\n",
       "    <tr>\n",
       "      <th>annual_inc</th>\n",
       "      <td>0.336887</td>\n",
       "      <td>-0.056771</td>\n",
       "      <td>0.330381</td>\n",
       "      <td>1.000000</td>\n",
       "      <td>-0.081685</td>\n",
       "      <td>0.136150</td>\n",
       "      <td>-0.013720</td>\n",
       "      <td>0.299773</td>\n",
       "      <td>0.027871</td>\n",
       "      <td>0.193023</td>\n",
       "      <td>0.236320</td>\n",
       "      <td>-0.050162</td>\n",
       "    </tr>\n",
       "    <tr>\n",
       "      <th>dti</th>\n",
       "      <td>0.016636</td>\n",
       "      <td>0.079038</td>\n",
       "      <td>0.015786</td>\n",
       "      <td>-0.081685</td>\n",
       "      <td>1.000000</td>\n",
       "      <td>0.136181</td>\n",
       "      <td>-0.017639</td>\n",
       "      <td>0.063571</td>\n",
       "      <td>0.088375</td>\n",
       "      <td>0.102128</td>\n",
       "      <td>-0.025439</td>\n",
       "      <td>-0.014558</td>\n",
       "    </tr>\n",
       "    <tr>\n",
       "      <th>open_acc</th>\n",
       "      <td>0.198556</td>\n",
       "      <td>0.011649</td>\n",
       "      <td>0.188973</td>\n",
       "      <td>0.136150</td>\n",
       "      <td>0.136181</td>\n",
       "      <td>1.000000</td>\n",
       "      <td>-0.018392</td>\n",
       "      <td>0.221192</td>\n",
       "      <td>-0.131420</td>\n",
       "      <td>0.680728</td>\n",
       "      <td>0.109205</td>\n",
       "      <td>-0.027732</td>\n",
       "    </tr>\n",
       "    <tr>\n",
       "      <th>pub_rec</th>\n",
       "      <td>-0.077779</td>\n",
       "      <td>0.060986</td>\n",
       "      <td>-0.067892</td>\n",
       "      <td>-0.013720</td>\n",
       "      <td>-0.017639</td>\n",
       "      <td>-0.018392</td>\n",
       "      <td>1.000000</td>\n",
       "      <td>-0.101664</td>\n",
       "      <td>-0.075910</td>\n",
       "      <td>0.019723</td>\n",
       "      <td>0.011552</td>\n",
       "      <td>0.699408</td>\n",
       "    </tr>\n",
       "    <tr>\n",
       "      <th>revol_bal</th>\n",
       "      <td>0.328320</td>\n",
       "      <td>-0.011280</td>\n",
       "      <td>0.316455</td>\n",
       "      <td>0.299773</td>\n",
       "      <td>0.063571</td>\n",
       "      <td>0.221192</td>\n",
       "      <td>-0.101664</td>\n",
       "      <td>1.000000</td>\n",
       "      <td>0.226346</td>\n",
       "      <td>0.191616</td>\n",
       "      <td>0.194925</td>\n",
       "      <td>-0.124532</td>\n",
       "    </tr>\n",
       "    <tr>\n",
       "      <th>revol_util</th>\n",
       "      <td>0.099911</td>\n",
       "      <td>0.293659</td>\n",
       "      <td>0.123915</td>\n",
       "      <td>0.027871</td>\n",
       "      <td>0.088375</td>\n",
       "      <td>-0.131420</td>\n",
       "      <td>-0.075910</td>\n",
       "      <td>0.226346</td>\n",
       "      <td>1.000000</td>\n",
       "      <td>-0.104273</td>\n",
       "      <td>0.007514</td>\n",
       "      <td>-0.086751</td>\n",
       "    </tr>\n",
       "    <tr>\n",
       "      <th>total_acc</th>\n",
       "      <td>0.223886</td>\n",
       "      <td>-0.036404</td>\n",
       "      <td>0.202430</td>\n",
       "      <td>0.193023</td>\n",
       "      <td>0.102128</td>\n",
       "      <td>0.680728</td>\n",
       "      <td>0.019723</td>\n",
       "      <td>0.191616</td>\n",
       "      <td>-0.104273</td>\n",
       "      <td>1.000000</td>\n",
       "      <td>0.381072</td>\n",
       "      <td>0.042035</td>\n",
       "    </tr>\n",
       "    <tr>\n",
       "      <th>mort_acc</th>\n",
       "      <td>0.222315</td>\n",
       "      <td>-0.082583</td>\n",
       "      <td>0.193694</td>\n",
       "      <td>0.236320</td>\n",
       "      <td>-0.025439</td>\n",
       "      <td>0.109205</td>\n",
       "      <td>0.011552</td>\n",
       "      <td>0.194925</td>\n",
       "      <td>0.007514</td>\n",
       "      <td>0.381072</td>\n",
       "      <td>1.000000</td>\n",
       "      <td>0.027239</td>\n",
       "    </tr>\n",
       "    <tr>\n",
       "      <th>pub_rec_bankruptcies</th>\n",
       "      <td>-0.106539</td>\n",
       "      <td>0.057450</td>\n",
       "      <td>-0.098628</td>\n",
       "      <td>-0.050162</td>\n",
       "      <td>-0.014558</td>\n",
       "      <td>-0.027732</td>\n",
       "      <td>0.699408</td>\n",
       "      <td>-0.124532</td>\n",
       "      <td>-0.086751</td>\n",
       "      <td>0.042035</td>\n",
       "      <td>0.027239</td>\n",
       "      <td>1.000000</td>\n",
       "    </tr>\n",
       "  </tbody>\n",
       "</table>\n",
       "</div>"
      ],
      "text/plain": [
       "                      loan_amnt  int_rate  installment  annual_inc       dti  \\\n",
       "loan_amnt              1.000000  0.168921     0.953929    0.336887  0.016636   \n",
       "int_rate               0.168921  1.000000     0.162758   -0.056771  0.079038   \n",
       "installment            0.953929  0.162758     1.000000    0.330381  0.015786   \n",
       "annual_inc             0.336887 -0.056771     0.330381    1.000000 -0.081685   \n",
       "dti                    0.016636  0.079038     0.015786   -0.081685  1.000000   \n",
       "open_acc               0.198556  0.011649     0.188973    0.136150  0.136181   \n",
       "pub_rec               -0.077779  0.060986    -0.067892   -0.013720 -0.017639   \n",
       "revol_bal              0.328320 -0.011280     0.316455    0.299773  0.063571   \n",
       "revol_util             0.099911  0.293659     0.123915    0.027871  0.088375   \n",
       "total_acc              0.223886 -0.036404     0.202430    0.193023  0.102128   \n",
       "mort_acc               0.222315 -0.082583     0.193694    0.236320 -0.025439   \n",
       "pub_rec_bankruptcies  -0.106539  0.057450    -0.098628   -0.050162 -0.014558   \n",
       "\n",
       "                      open_acc   pub_rec  revol_bal  revol_util  total_acc  \\\n",
       "loan_amnt             0.198556 -0.077779   0.328320    0.099911   0.223886   \n",
       "int_rate              0.011649  0.060986  -0.011280    0.293659  -0.036404   \n",
       "installment           0.188973 -0.067892   0.316455    0.123915   0.202430   \n",
       "annual_inc            0.136150 -0.013720   0.299773    0.027871   0.193023   \n",
       "dti                   0.136181 -0.017639   0.063571    0.088375   0.102128   \n",
       "open_acc              1.000000 -0.018392   0.221192   -0.131420   0.680728   \n",
       "pub_rec              -0.018392  1.000000  -0.101664   -0.075910   0.019723   \n",
       "revol_bal             0.221192 -0.101664   1.000000    0.226346   0.191616   \n",
       "revol_util           -0.131420 -0.075910   0.226346    1.000000  -0.104273   \n",
       "total_acc             0.680728  0.019723   0.191616   -0.104273   1.000000   \n",
       "mort_acc              0.109205  0.011552   0.194925    0.007514   0.381072   \n",
       "pub_rec_bankruptcies -0.027732  0.699408  -0.124532   -0.086751   0.042035   \n",
       "\n",
       "                      mort_acc  pub_rec_bankruptcies  \n",
       "loan_amnt             0.222315             -0.106539  \n",
       "int_rate             -0.082583              0.057450  \n",
       "installment           0.193694             -0.098628  \n",
       "annual_inc            0.236320             -0.050162  \n",
       "dti                  -0.025439             -0.014558  \n",
       "open_acc              0.109205             -0.027732  \n",
       "pub_rec               0.011552              0.699408  \n",
       "revol_bal             0.194925             -0.124532  \n",
       "revol_util            0.007514             -0.086751  \n",
       "total_acc             0.381072              0.042035  \n",
       "mort_acc              1.000000              0.027239  \n",
       "pub_rec_bankruptcies  0.027239              1.000000  "
      ]
     },
     "execution_count": 8,
     "metadata": {},
     "output_type": "execute_result"
    }
   ],
   "source": [
    "df.corr()"
   ]
  },
  {
   "cell_type": "code",
   "execution_count": 9,
   "metadata": {},
   "outputs": [
    {
     "data": {
      "text/plain": [
       "<matplotlib.axes._subplots.AxesSubplot at 0x7f903ccba590>"
      ]
     },
     "execution_count": 9,
     "metadata": {},
     "output_type": "execute_result"
    },
    {
     "data": {
      "image/png": "[encoded data removed]",
      "text/plain": [
       "<Figure size 432x288 with 2 Axes>"
      ]
     },
     "metadata": {
      "needs_background": "light"
     },
     "output_type": "display_data"
    }
   ],
   "source": [
    "sns.heatmap(df.corr())"
   ]
  },
  {
   "cell_type": "code",
   "execution_count": 10,
   "metadata": {},
   "outputs": [
    {
     "data": {
      "text/plain": [
       "<matplotlib.axes._subplots.AxesSubplot at 0x7f903cbfec10>"
      ]
     },
     "execution_count": 10,
     "metadata": {},
     "output_type": "execute_result"
    },
    {
     "data": {
      "image/png": "[encoded data removed]",
      "text/plain": [
       "<Figure size 432x288 with 1 Axes>"
      ]
     },
     "metadata": {
      "needs_background": "light"
     },
     "output_type": "display_data"
    }
   ],
   "source": [
    "df.corr()['loan_amnt'].sort_values()[:-1].plot(kind='bar')"
   ]
  },
  {
   "cell_type": "code",
   "execution_count": 11,
   "metadata": {},
   "outputs": [],
   "source": [
    "df['loan_status'] = df['loan_status'].apply(lambda loan_status: 1 if loan_status == 'Fully Paid' else 0)"
   ]
  },
  {
   "cell_type": "code",
   "execution_count": 12,
   "metadata": {},
   "outputs": [
    {
     "data": {
      "text/plain": [
       "<matplotlib.axes._subplots.AxesSubplot at 0x7f903cc39b90>"
      ]
     },
     "execution_count": 12,
     "metadata": {},
     "output_type": "execute_result"
    },
    {
     "data": {
      "image/png": "[encoded data removed]",
      "text/plain": [
       "<Figure size 432x288 with 1 Axes>"
      ]
     },
     "metadata": {
      "needs_background": "light"
     },
     "output_type": "display_data"
    }
   ],
   "source": [
    "df.corr()['loan_status'].sort_values()[:-1].plot(kind='bar')"
   ]
  },
  {
   "cell_type": "code",
   "execution_count": 13,
   "metadata": {},
   "outputs": [
    {
     "data": {
      "text/plain": [
       "<matplotlib.axes._subplots.AxesSubplot at 0x7f903cacaa50>"
      ]
     },
     "execution_count": 13,
     "metadata": {},
     "output_type": "execute_result"
    },
    {
     "data": {
      "image/png": "[encoded data removed]",
      "text/plain": [
       "<Figure size 432x288 with 1 Axes>"
      ]
     },
     "metadata": {
      "needs_background": "light"
     },
     "output_type": "display_data"
    }
   ],
   "source": [
    "sns.scatterplot(x='loan_amnt', y='installment', data=df)"
   ]
  },
  {
   "cell_type": "code",
   "execution_count": 14,
   "metadata": {},
   "outputs": [
    {
     "data": {
      "text/plain": [
       "<matplotlib.axes._subplots.AxesSubplot at 0x7f903ca498d0>"
      ]
     },
     "execution_count": 14,
     "metadata": {},
     "output_type": "execute_result"
    },
    {
     "data": {
      "image/png": "[encoded data removed]",
      "text/plain": [
       "<Figure size 432x288 with 1 Axes>"
      ]
     },
     "metadata": {
      "needs_background": "light"
     },
     "output_type": "display_data"
    }
   ],
   "source": [
    "sns.boxplot(x='loan_status', y='loan_amnt', data=df)"
   ]
  },
  {
   "cell_type": "code",
   "execution_count": 15,
   "metadata": {},
   "outputs": [
    {
     "data": {
      "text/html": [
       "<div>\n",
       "<style scoped>\n",
       "    .dataframe tbody tr th:only-of-type {\n",
       "        vertical-align: middle;\n",
       "    }\n",
       "\n",
       "    .dataframe tbody tr th {\n",
       "        vertical-align: top;\n",
       "    }\n",
       "\n",
       "    .dataframe thead th {\n",
       "        text-align: right;\n",
       "    }\n",
       "</style>\n",
       "<table border=\"1\" class=\"dataframe\">\n",
       "  <thead>\n",
       "    <tr style=\"text-align: right;\">\n",
       "      <th></th>\n",
       "      <th>loan_amnt</th>\n",
       "      <th>int_rate</th>\n",
       "      <th>installment</th>\n",
       "      <th>annual_inc</th>\n",
       "      <th>dti</th>\n",
       "      <th>open_acc</th>\n",
       "      <th>pub_rec</th>\n",
       "      <th>revol_bal</th>\n",
       "      <th>revol_util</th>\n",
       "      <th>total_acc</th>\n",
       "      <th>mort_acc</th>\n",
       "      <th>pub_rec_bankruptcies</th>\n",
       "    </tr>\n",
       "    <tr>\n",
       "      <th>loan_status</th>\n",
       "      <th></th>\n",
       "      <th></th>\n",
       "      <th></th>\n",
       "      <th></th>\n",
       "      <th></th>\n",
       "      <th></th>\n",
       "      <th></th>\n",
       "      <th></th>\n",
       "      <th></th>\n",
       "      <th></th>\n",
       "      <th></th>\n",
       "      <th></th>\n",
       "    </tr>\n",
       "  </thead>\n",
       "  <tbody>\n",
       "    <tr>\n",
       "      <th>0</th>\n",
       "      <td>15126.300967</td>\n",
       "      <td>15.882587</td>\n",
       "      <td>452.703110</td>\n",
       "      <td>67535.537710</td>\n",
       "      <td>19.656346</td>\n",
       "      <td>11.602513</td>\n",
       "      <td>0.199606</td>\n",
       "      <td>15390.454701</td>\n",
       "      <td>57.869824</td>\n",
       "      <td>24.984152</td>\n",
       "      <td>1.501213</td>\n",
       "      <td>0.128412</td>\n",
       "    </tr>\n",
       "    <tr>\n",
       "      <th>1</th>\n",
       "      <td>13866.878771</td>\n",
       "      <td>13.092105</td>\n",
       "      <td>426.761866</td>\n",
       "      <td>75829.951566</td>\n",
       "      <td>16.824010</td>\n",
       "      <td>11.240067</td>\n",
       "      <td>0.172966</td>\n",
       "      <td>15955.327918</td>\n",
       "      <td>52.796918</td>\n",
       "      <td>25.519800</td>\n",
       "      <td>1.892836</td>\n",
       "      <td>0.119997</td>\n",
       "    </tr>\n",
       "  </tbody>\n",
       "</table>\n",
       "</div>"
      ],
      "text/plain": [
       "                loan_amnt   int_rate  installment    annual_inc        dti  \\\n",
       "loan_status                                                                  \n",
       "0            15126.300967  15.882587   452.703110  67535.537710  19.656346   \n",
       "1            13866.878771  13.092105   426.761866  75829.951566  16.824010   \n",
       "\n",
       "              open_acc   pub_rec     revol_bal  revol_util  total_acc  \\\n",
       "loan_status                                                             \n",
       "0            11.602513  0.199606  15390.454701   57.869824  24.984152   \n",
       "1            11.240067  0.172966  15955.327918   52.796918  25.519800   \n",
       "\n",
       "             mort_acc  pub_rec_bankruptcies  \n",
       "loan_status                                  \n",
       "0            1.501213              0.128412  \n",
       "1            1.892836              0.119997  "
      ]
     },
     "execution_count": 15,
     "metadata": {},
     "output_type": "execute_result"
    }
   ],
   "source": [
    "df.groupby('loan_status').mean()"
   ]
  },
  {
   "cell_type": "code",
   "execution_count": 16,
   "metadata": {},
   "outputs": [
    {
     "data": {
      "text/plain": [
       "<matplotlib.axes._subplots.AxesSubplot at 0x7f9039f6e9d0>"
      ]
     },
     "execution_count": 16,
     "metadata": {},
     "output_type": "execute_result"
    },
    {
     "data": {
      "image/png": "[encoded data removed]",
      "text/plain": [
       "<Figure size 1440x864 with 1 Axes>"
      ]
     },
     "metadata": {
      "needs_background": "light"
     },
     "output_type": "display_data"
    }
   ],
   "source": [
    "plt.figure(figsize=(20, 12))\n",
    "sns.countplot(x='sub_grade', data=df, hue='loan_status')"
   ]
  },
  {
   "cell_type": "code",
   "execution_count": 17,
   "metadata": {},
   "outputs": [
    {
     "data": {
      "text/html": [
       "<div>\n",
       "<style scoped>\n",
       "    .dataframe tbody tr th:only-of-type {\n",
       "        vertical-align: middle;\n",
       "    }\n",
       "\n",
       "    .dataframe tbody tr th {\n",
       "        vertical-align: top;\n",
       "    }\n",
       "\n",
       "    .dataframe thead th {\n",
       "        text-align: right;\n",
       "    }\n",
       "</style>\n",
       "<table border=\"1\" class=\"dataframe\">\n",
       "  <thead>\n",
       "    <tr style=\"text-align: right;\">\n",
       "      <th></th>\n",
       "      <th>loan_amnt</th>\n",
       "      <th>int_rate</th>\n",
       "      <th>installment</th>\n",
       "      <th>annual_inc</th>\n",
       "      <th>loan_status</th>\n",
       "      <th>dti</th>\n",
       "      <th>open_acc</th>\n",
       "      <th>pub_rec</th>\n",
       "      <th>revol_bal</th>\n",
       "      <th>revol_util</th>\n",
       "      <th>total_acc</th>\n",
       "      <th>mort_acc</th>\n",
       "      <th>pub_rec_bankruptcies</th>\n",
       "    </tr>\n",
       "    <tr>\n",
       "      <th>sub_grade</th>\n",
       "      <th></th>\n",
       "      <th></th>\n",
       "      <th></th>\n",
       "      <th></th>\n",
       "      <th></th>\n",
       "      <th></th>\n",
       "      <th></th>\n",
       "      <th></th>\n",
       "      <th></th>\n",
       "      <th></th>\n",
       "      <th></th>\n",
       "      <th></th>\n",
       "      <th></th>\n",
       "    </tr>\n",
       "  </thead>\n",
       "  <tbody>\n",
       "    <tr>\n",
       "      <th>A1</th>\n",
       "      <td>12875.300648</td>\n",
       "      <td>5.826852</td>\n",
       "      <td>390.597301</td>\n",
       "      <td>91883.135007</td>\n",
       "      <td>0.971323</td>\n",
       "      <td>13.250914</td>\n",
       "      <td>11.831226</td>\n",
       "      <td>0.029397</td>\n",
       "      <td>16123.123343</td>\n",
       "      <td>27.020130</td>\n",
       "      <td>27.920341</td>\n",
       "      <td>2.504562</td>\n",
       "      <td>0.016977</td>\n",
       "    </tr>\n",
       "    <tr>\n",
       "      <th>A2</th>\n",
       "      <td>12561.317550</td>\n",
       "      <td>6.512843</td>\n",
       "      <td>384.086440</td>\n",
       "      <td>84348.790796</td>\n",
       "      <td>0.951814</td>\n",
       "      <td>14.187992</td>\n",
       "      <td>11.577715</td>\n",
       "      <td>0.045887</td>\n",
       "      <td>16236.045782</td>\n",
       "      <td>32.839780</td>\n",
       "      <td>27.067942</td>\n",
       "      <td>2.295992</td>\n",
       "      <td>0.028613</td>\n",
       "    </tr>\n",
       "    <tr>\n",
       "      <th>A3</th>\n",
       "      <td>13253.524489</td>\n",
       "      <td>7.300806</td>\n",
       "      <td>409.171187</td>\n",
       "      <td>85793.399002</td>\n",
       "      <td>0.941944</td>\n",
       "      <td>14.868537</td>\n",
       "      <td>11.416415</td>\n",
       "      <td>0.072050</td>\n",
       "      <td>17474.444024</td>\n",
       "      <td>37.732240</td>\n",
       "      <td>26.739126</td>\n",
       "      <td>2.323727</td>\n",
       "      <td>0.044402</td>\n",
       "    </tr>\n",
       "    <tr>\n",
       "      <th>A4</th>\n",
       "      <td>13461.777187</td>\n",
       "      <td>7.683278</td>\n",
       "      <td>416.193182</td>\n",
       "      <td>81869.337551</td>\n",
       "      <td>0.929761</td>\n",
       "      <td>14.985299</td>\n",
       "      <td>11.138324</td>\n",
       "      <td>0.086009</td>\n",
       "      <td>16836.475078</td>\n",
       "      <td>41.900229</td>\n",
       "      <td>26.101843</td>\n",
       "      <td>2.146973</td>\n",
       "      <td>0.058469</td>\n",
       "    </tr>\n",
       "    <tr>\n",
       "      <th>A5</th>\n",
       "      <td>13774.906888</td>\n",
       "      <td>8.474721</td>\n",
       "      <td>422.266141</td>\n",
       "      <td>82909.407897</td>\n",
       "      <td>0.915092</td>\n",
       "      <td>15.469165</td>\n",
       "      <td>11.357660</td>\n",
       "      <td>0.112868</td>\n",
       "      <td>17516.595325</td>\n",
       "      <td>45.450802</td>\n",
       "      <td>26.368347</td>\n",
       "      <td>2.156024</td>\n",
       "      <td>0.079018</td>\n",
       "    </tr>\n",
       "    <tr>\n",
       "      <th>B1</th>\n",
       "      <td>12654.388229</td>\n",
       "      <td>9.360482</td>\n",
       "      <td>389.057327</td>\n",
       "      <td>76249.985418</td>\n",
       "      <td>0.901418</td>\n",
       "      <td>16.003890</td>\n",
       "      <td>11.225472</td>\n",
       "      <td>0.154989</td>\n",
       "      <td>16187.574184</td>\n",
       "      <td>47.847558</td>\n",
       "      <td>25.898290</td>\n",
       "      <td>2.022317</td>\n",
       "      <td>0.115226</td>\n",
       "    </tr>\n",
       "    <tr>\n",
       "      <th>B2</th>\n",
       "      <td>13091.600356</td>\n",
       "      <td>10.381126</td>\n",
       "      <td>408.585831</td>\n",
       "      <td>75705.213239</td>\n",
       "      <td>0.891487</td>\n",
       "      <td>16.342273</td>\n",
       "      <td>11.200934</td>\n",
       "      <td>0.157324</td>\n",
       "      <td>16178.109669</td>\n",
       "      <td>51.095361</td>\n",
       "      <td>25.590754</td>\n",
       "      <td>1.957020</td>\n",
       "      <td>0.115474</td>\n",
       "    </tr>\n",
       "    <tr>\n",
       "      <th>B3</th>\n",
       "      <td>12926.023260</td>\n",
       "      <td>11.297359</td>\n",
       "      <td>401.298937</td>\n",
       "      <td>73422.748071</td>\n",
       "      <td>0.876646</td>\n",
       "      <td>16.655627</td>\n",
       "      <td>11.104858</td>\n",
       "      <td>0.163872</td>\n",
       "      <td>15620.334909</td>\n",
       "      <td>53.067648</td>\n",
       "      <td>25.081748</td>\n",
       "      <td>1.798991</td>\n",
       "      <td>0.118056</td>\n",
       "    </tr>\n",
       "    <tr>\n",
       "      <th>B4</th>\n",
       "      <td>13124.080114</td>\n",
       "      <td>12.100112</td>\n",
       "      <td>407.662771</td>\n",
       "      <td>72373.736472</td>\n",
       "      <td>0.861607</td>\n",
       "      <td>16.949962</td>\n",
       "      <td>11.163587</td>\n",
       "      <td>0.175853</td>\n",
       "      <td>15642.381782</td>\n",
       "      <td>54.456730</td>\n",
       "      <td>25.212765</td>\n",
       "      <td>1.790609</td>\n",
       "      <td>0.125714</td>\n",
       "    </tr>\n",
       "    <tr>\n",
       "      <th>B5</th>\n",
       "      <td>12604.474757</td>\n",
       "      <td>12.592390</td>\n",
       "      <td>399.631293</td>\n",
       "      <td>70383.448099</td>\n",
       "      <td>0.844963</td>\n",
       "      <td>17.183492</td>\n",
       "      <td>11.036541</td>\n",
       "      <td>0.209373</td>\n",
       "      <td>14786.809826</td>\n",
       "      <td>55.158967</td>\n",
       "      <td>24.811094</td>\n",
       "      <td>1.676822</td>\n",
       "      <td>0.143168</td>\n",
       "    </tr>\n",
       "    <tr>\n",
       "      <th>C1</th>\n",
       "      <td>13062.226354</td>\n",
       "      <td>13.218188</td>\n",
       "      <td>406.445998</td>\n",
       "      <td>71410.940606</td>\n",
       "      <td>0.826304</td>\n",
       "      <td>17.473380</td>\n",
       "      <td>11.131139</td>\n",
       "      <td>0.200110</td>\n",
       "      <td>15292.155819</td>\n",
       "      <td>56.225164</td>\n",
       "      <td>24.872411</td>\n",
       "      <td>1.695292</td>\n",
       "      <td>0.137662</td>\n",
       "    </tr>\n",
       "    <tr>\n",
       "      <th>C2</th>\n",
       "      <td>13345.329938</td>\n",
       "      <td>13.796628</td>\n",
       "      <td>409.714953</td>\n",
       "      <td>71030.545459</td>\n",
       "      <td>0.802480</td>\n",
       "      <td>18.132696</td>\n",
       "      <td>11.145040</td>\n",
       "      <td>0.205004</td>\n",
       "      <td>15374.610540</td>\n",
       "      <td>57.116614</td>\n",
       "      <td>24.916785</td>\n",
       "      <td>1.707838</td>\n",
       "      <td>0.139102</td>\n",
       "    </tr>\n",
       "    <tr>\n",
       "      <th>C3</th>\n",
       "      <td>13891.006550</td>\n",
       "      <td>14.364449</td>\n",
       "      <td>421.079059</td>\n",
       "      <td>71737.906989</td>\n",
       "      <td>0.781584</td>\n",
       "      <td>17.887510</td>\n",
       "      <td>11.312379</td>\n",
       "      <td>0.219924</td>\n",
       "      <td>15537.047123</td>\n",
       "      <td>56.913604</td>\n",
       "      <td>25.131002</td>\n",
       "      <td>1.737759</td>\n",
       "      <td>0.148358</td>\n",
       "    </tr>\n",
       "    <tr>\n",
       "      <th>C4</th>\n",
       "      <td>14349.119822</td>\n",
       "      <td>14.929493</td>\n",
       "      <td>430.968174</td>\n",
       "      <td>71052.110751</td>\n",
       "      <td>0.764645</td>\n",
       "      <td>18.305717</td>\n",
       "      <td>11.403008</td>\n",
       "      <td>0.212623</td>\n",
       "      <td>15745.885947</td>\n",
       "      <td>58.100877</td>\n",
       "      <td>25.217406</td>\n",
       "      <td>1.722605</td>\n",
       "      <td>0.144162</td>\n",
       "    </tr>\n",
       "    <tr>\n",
       "      <th>C5</th>\n",
       "      <td>14378.736845</td>\n",
       "      <td>15.655906</td>\n",
       "      <td>433.690557</td>\n",
       "      <td>70819.504894</td>\n",
       "      <td>0.754933</td>\n",
       "      <td>18.492009</td>\n",
       "      <td>11.341537</td>\n",
       "      <td>0.225005</td>\n",
       "      <td>15691.900351</td>\n",
       "      <td>58.307484</td>\n",
       "      <td>25.190693</td>\n",
       "      <td>1.759564</td>\n",
       "      <td>0.155492</td>\n",
       "    </tr>\n",
       "    <tr>\n",
       "      <th>D1</th>\n",
       "      <td>14004.064278</td>\n",
       "      <td>16.409532</td>\n",
       "      <td>433.853140</td>\n",
       "      <td>68711.994678</td>\n",
       "      <td>0.736197</td>\n",
       "      <td>18.624124</td>\n",
       "      <td>11.307885</td>\n",
       "      <td>0.224286</td>\n",
       "      <td>14876.086538</td>\n",
       "      <td>59.694338</td>\n",
       "      <td>24.757581</td>\n",
       "      <td>1.598437</td>\n",
       "      <td>0.150398</td>\n",
       "    </tr>\n",
       "    <tr>\n",
       "      <th>D2</th>\n",
       "      <td>13985.278833</td>\n",
       "      <td>17.119527</td>\n",
       "      <td>435.986328</td>\n",
       "      <td>68234.533086</td>\n",
       "      <td>0.719662</td>\n",
       "      <td>18.784896</td>\n",
       "      <td>11.248369</td>\n",
       "      <td>0.206293</td>\n",
       "      <td>14992.623038</td>\n",
       "      <td>60.170312</td>\n",
       "      <td>24.503405</td>\n",
       "      <td>1.557430</td>\n",
       "      <td>0.138869</td>\n",
       "    </tr>\n",
       "    <tr>\n",
       "      <th>D3</th>\n",
       "      <td>14396.250920</td>\n",
       "      <td>17.621396</td>\n",
       "      <td>447.598072</td>\n",
       "      <td>68882.946318</td>\n",
       "      <td>0.715782</td>\n",
       "      <td>18.733687</td>\n",
       "      <td>11.190951</td>\n",
       "      <td>0.219504</td>\n",
       "      <td>14802.937249</td>\n",
       "      <td>59.663653</td>\n",
       "      <td>24.442281</td>\n",
       "      <td>1.570477</td>\n",
       "      <td>0.141640</td>\n",
       "    </tr>\n",
       "    <tr>\n",
       "      <th>D4</th>\n",
       "      <td>15638.723514</td>\n",
       "      <td>18.188620</td>\n",
       "      <td>473.657506</td>\n",
       "      <td>71557.416942</td>\n",
       "      <td>0.688685</td>\n",
       "      <td>18.889252</td>\n",
       "      <td>11.344342</td>\n",
       "      <td>0.209231</td>\n",
       "      <td>15467.723771</td>\n",
       "      <td>60.696010</td>\n",
       "      <td>24.973235</td>\n",
       "      <td>1.642864</td>\n",
       "      <td>0.136621</td>\n",
       "    </tr>\n",
       "    <tr>\n",
       "      <th>D5</th>\n",
       "      <td>16099.914948</td>\n",
       "      <td>18.763294</td>\n",
       "      <td>483.498932</td>\n",
       "      <td>72112.520700</td>\n",
       "      <td>0.679897</td>\n",
       "      <td>18.962174</td>\n",
       "      <td>11.511546</td>\n",
       "      <td>0.205155</td>\n",
       "      <td>15900.611340</td>\n",
       "      <td>60.411082</td>\n",
       "      <td>25.196804</td>\n",
       "      <td>1.648967</td>\n",
       "      <td>0.132198</td>\n",
       "    </tr>\n",
       "    <tr>\n",
       "      <th>E1</th>\n",
       "      <td>17048.828470</td>\n",
       "      <td>19.158790</td>\n",
       "      <td>504.328025</td>\n",
       "      <td>72021.343498</td>\n",
       "      <td>0.655930</td>\n",
       "      <td>19.347603</td>\n",
       "      <td>11.604396</td>\n",
       "      <td>0.214223</td>\n",
       "      <td>16104.563976</td>\n",
       "      <td>60.385315</td>\n",
       "      <td>25.585954</td>\n",
       "      <td>1.697604</td>\n",
       "      <td>0.145512</td>\n",
       "    </tr>\n",
       "    <tr>\n",
       "      <th>E2</th>\n",
       "      <td>17466.209124</td>\n",
       "      <td>19.782530</td>\n",
       "      <td>513.385085</td>\n",
       "      <td>74249.801114</td>\n",
       "      <td>0.632620</td>\n",
       "      <td>19.230770</td>\n",
       "      <td>11.502490</td>\n",
       "      <td>0.208451</td>\n",
       "      <td>16024.007267</td>\n",
       "      <td>60.762433</td>\n",
       "      <td>25.438568</td>\n",
       "      <td>1.714411</td>\n",
       "      <td>0.134312</td>\n",
       "    </tr>\n",
       "    <tr>\n",
       "      <th>E3</th>\n",
       "      <td>17900.890124</td>\n",
       "      <td>20.364674</td>\n",
       "      <td>522.915357</td>\n",
       "      <td>72784.326599</td>\n",
       "      <td>0.619623</td>\n",
       "      <td>19.768080</td>\n",
       "      <td>11.667956</td>\n",
       "      <td>0.201063</td>\n",
       "      <td>16686.650395</td>\n",
       "      <td>61.396693</td>\n",
       "      <td>25.656195</td>\n",
       "      <td>1.671170</td>\n",
       "      <td>0.136847</td>\n",
       "    </tr>\n",
       "    <tr>\n",
       "      <th>E4</th>\n",
       "      <td>18354.658646</td>\n",
       "      <td>21.141296</td>\n",
       "      <td>533.831643</td>\n",
       "      <td>74606.296532</td>\n",
       "      <td>0.606976</td>\n",
       "      <td>19.618610</td>\n",
       "      <td>11.711994</td>\n",
       "      <td>0.208170</td>\n",
       "      <td>16846.140645</td>\n",
       "      <td>61.490446</td>\n",
       "      <td>25.777280</td>\n",
       "      <td>1.690717</td>\n",
       "      <td>0.131255</td>\n",
       "    </tr>\n",
       "    <tr>\n",
       "      <th>E5</th>\n",
       "      <td>18329.713473</td>\n",
       "      <td>21.925892</td>\n",
       "      <td>537.144127</td>\n",
       "      <td>74866.138718</td>\n",
       "      <td>0.596894</td>\n",
       "      <td>19.593830</td>\n",
       "      <td>11.830927</td>\n",
       "      <td>0.185914</td>\n",
       "      <td>17223.605643</td>\n",
       "      <td>61.923381</td>\n",
       "      <td>25.771654</td>\n",
       "      <td>1.651074</td>\n",
       "      <td>0.124097</td>\n",
       "    </tr>\n",
       "    <tr>\n",
       "      <th>F1</th>\n",
       "      <td>18634.085124</td>\n",
       "      <td>22.746570</td>\n",
       "      <td>545.537692</td>\n",
       "      <td>75184.345727</td>\n",
       "      <td>0.612557</td>\n",
       "      <td>19.430413</td>\n",
       "      <td>11.809672</td>\n",
       "      <td>0.212104</td>\n",
       "      <td>16996.521493</td>\n",
       "      <td>62.078347</td>\n",
       "      <td>25.830317</td>\n",
       "      <td>1.727864</td>\n",
       "      <td>0.140108</td>\n",
       "    </tr>\n",
       "    <tr>\n",
       "      <th>F2</th>\n",
       "      <td>19326.807664</td>\n",
       "      <td>23.403247</td>\n",
       "      <td>573.444277</td>\n",
       "      <td>74702.466837</td>\n",
       "      <td>0.575199</td>\n",
       "      <td>19.718659</td>\n",
       "      <td>11.796095</td>\n",
       "      <td>0.216197</td>\n",
       "      <td>16132.204989</td>\n",
       "      <td>61.790438</td>\n",
       "      <td>26.023138</td>\n",
       "      <td>1.697030</td>\n",
       "      <td>0.141253</td>\n",
       "    </tr>\n",
       "    <tr>\n",
       "      <th>F3</th>\n",
       "      <td>18708.070866</td>\n",
       "      <td>24.058736</td>\n",
       "      <td>561.487310</td>\n",
       "      <td>72953.682288</td>\n",
       "      <td>0.563867</td>\n",
       "      <td>19.329519</td>\n",
       "      <td>11.495188</td>\n",
       "      <td>0.195101</td>\n",
       "      <td>15834.960192</td>\n",
       "      <td>62.693377</td>\n",
       "      <td>25.220035</td>\n",
       "      <td>1.622650</td>\n",
       "      <td>0.130092</td>\n",
       "    </tr>\n",
       "    <tr>\n",
       "      <th>F4</th>\n",
       "      <td>19557.960269</td>\n",
       "      <td>24.534617</td>\n",
       "      <td>587.722658</td>\n",
       "      <td>74306.593688</td>\n",
       "      <td>0.543928</td>\n",
       "      <td>19.187650</td>\n",
       "      <td>11.683268</td>\n",
       "      <td>0.209849</td>\n",
       "      <td>15547.640739</td>\n",
       "      <td>61.841704</td>\n",
       "      <td>25.365976</td>\n",
       "      <td>1.613260</td>\n",
       "      <td>0.129412</td>\n",
       "    </tr>\n",
       "    <tr>\n",
       "      <th>F5</th>\n",
       "      <td>20825.375805</td>\n",
       "      <td>25.055827</td>\n",
       "      <td>629.601432</td>\n",
       "      <td>79425.613121</td>\n",
       "      <td>0.513243</td>\n",
       "      <td>19.714753</td>\n",
       "      <td>12.072298</td>\n",
       "      <td>0.198998</td>\n",
       "      <td>16590.738010</td>\n",
       "      <td>62.353009</td>\n",
       "      <td>26.335719</td>\n",
       "      <td>1.647059</td>\n",
       "      <td>0.130372</td>\n",
       "    </tr>\n",
       "    <tr>\n",
       "      <th>G1</th>\n",
       "      <td>20526.819471</td>\n",
       "      <td>25.556210</td>\n",
       "      <td>627.156285</td>\n",
       "      <td>79889.524612</td>\n",
       "      <td>0.538752</td>\n",
       "      <td>18.952155</td>\n",
       "      <td>11.925331</td>\n",
       "      <td>0.228733</td>\n",
       "      <td>16467.150284</td>\n",
       "      <td>61.158979</td>\n",
       "      <td>25.698488</td>\n",
       "      <td>1.726042</td>\n",
       "      <td>0.129612</td>\n",
       "    </tr>\n",
       "    <tr>\n",
       "      <th>G2</th>\n",
       "      <td>20532.659151</td>\n",
       "      <td>25.811247</td>\n",
       "      <td>630.751565</td>\n",
       "      <td>76601.015371</td>\n",
       "      <td>0.517241</td>\n",
       "      <td>19.611326</td>\n",
       "      <td>12.294430</td>\n",
       "      <td>0.217507</td>\n",
       "      <td>16102.258621</td>\n",
       "      <td>61.835106</td>\n",
       "      <td>25.928382</td>\n",
       "      <td>1.564399</td>\n",
       "      <td>0.132626</td>\n",
       "    </tr>\n",
       "    <tr>\n",
       "      <th>G3</th>\n",
       "      <td>21322.327899</td>\n",
       "      <td>26.118170</td>\n",
       "      <td>654.406920</td>\n",
       "      <td>79676.507428</td>\n",
       "      <td>0.489130</td>\n",
       "      <td>18.989167</td>\n",
       "      <td>11.947464</td>\n",
       "      <td>0.286232</td>\n",
       "      <td>16578.201087</td>\n",
       "      <td>62.181522</td>\n",
       "      <td>25.528986</td>\n",
       "      <td>1.746562</td>\n",
       "      <td>0.166667</td>\n",
       "    </tr>\n",
       "    <tr>\n",
       "      <th>G4</th>\n",
       "      <td>21699.197861</td>\n",
       "      <td>26.237754</td>\n",
       "      <td>667.143770</td>\n",
       "      <td>86065.115936</td>\n",
       "      <td>0.550802</td>\n",
       "      <td>19.493289</td>\n",
       "      <td>12.681818</td>\n",
       "      <td>0.165775</td>\n",
       "      <td>18343.117647</td>\n",
       "      <td>61.845013</td>\n",
       "      <td>26.943850</td>\n",
       "      <td>1.854545</td>\n",
       "      <td>0.109626</td>\n",
       "    </tr>\n",
       "    <tr>\n",
       "      <th>G5</th>\n",
       "      <td>21148.575949</td>\n",
       "      <td>26.524019</td>\n",
       "      <td>653.248703</td>\n",
       "      <td>85744.076456</td>\n",
       "      <td>0.496835</td>\n",
       "      <td>19.589335</td>\n",
       "      <td>12.104430</td>\n",
       "      <td>0.221519</td>\n",
       "      <td>19630.962025</td>\n",
       "      <td>63.115605</td>\n",
       "      <td>25.895570</td>\n",
       "      <td>1.575972</td>\n",
       "      <td>0.155556</td>\n",
       "    </tr>\n",
       "  </tbody>\n",
       "</table>\n",
       "</div>"
      ],
      "text/plain": [
       "              loan_amnt   int_rate  installment    annual_inc  loan_status  \\\n",
       "sub_grade                                                                    \n",
       "A1         12875.300648   5.826852   390.597301  91883.135007     0.971323   \n",
       "A2         12561.317550   6.512843   384.086440  84348.790796     0.951814   \n",
       "A3         13253.524489   7.300806   409.171187  85793.399002     0.941944   \n",
       "A4         13461.777187   7.683278   416.193182  81869.337551     0.929761   \n",
       "A5         13774.906888   8.474721   422.266141  82909.407897     0.915092   \n",
       "B1         12654.388229   9.360482   389.057327  76249.985418     0.901418   \n",
       "B2         13091.600356  10.381126   408.585831  75705.213239     0.891487   \n",
       "B3         12926.023260  11.297359   401.298937  73422.748071     0.876646   \n",
       "B4         13124.080114  12.100112   407.662771  72373.736472     0.861607   \n",
       "B5         12604.474757  12.592390   399.631293  70383.448099     0.844963   \n",
       "C1         13062.226354  13.218188   406.445998  71410.940606     0.826304   \n",
       "C2         13345.329938  13.796628   409.714953  71030.545459     0.802480   \n",
       "C3         13891.006550  14.364449   421.079059  71737.906989     0.781584   \n",
       "C4         14349.119822  14.929493   430.968174  71052.110751     0.764645   \n",
       "C5         14378.736845  15.655906   433.690557  70819.504894     0.754933   \n",
       "D1         14004.064278  16.409532   433.853140  68711.994678     0.736197   \n",
       "D2         13985.278833  17.119527   435.986328  68234.533086     0.719662   \n",
       "D3         14396.250920  17.621396   447.598072  68882.946318     0.715782   \n",
       "D4         15638.723514  18.188620   473.657506  71557.416942     0.688685   \n",
       "D5         16099.914948  18.763294   483.498932  72112.520700     0.679897   \n",
       "E1         17048.828470  19.158790   504.328025  72021.343498     0.655930   \n",
       "E2         17466.209124  19.782530   513.385085  74249.801114     0.632620   \n",
       "E3         17900.890124  20.364674   522.915357  72784.326599     0.619623   \n",
       "E4         18354.658646  21.141296   533.831643  74606.296532     0.606976   \n",
       "E5         18329.713473  21.925892   537.144127  74866.138718     0.596894   \n",
       "F1         18634.085124  22.746570   545.537692  75184.345727     0.612557   \n",
       "F2         19326.807664  23.403247   573.444277  74702.466837     0.575199   \n",
       "F3         18708.070866  24.058736   561.487310  72953.682288     0.563867   \n",
       "F4         19557.960269  24.534617   587.722658  74306.593688     0.543928   \n",
       "F5         20825.375805  25.055827   629.601432  79425.613121     0.513243   \n",
       "G1         20526.819471  25.556210   627.156285  79889.524612     0.538752   \n",
       "G2         20532.659151  25.811247   630.751565  76601.015371     0.517241   \n",
       "G3         21322.327899  26.118170   654.406920  79676.507428     0.489130   \n",
       "G4         21699.197861  26.237754   667.143770  86065.115936     0.550802   \n",
       "G5         21148.575949  26.524019   653.248703  85744.076456     0.496835   \n",
       "\n",
       "                 dti   open_acc   pub_rec     revol_bal  revol_util  \\\n",
       "sub_grade                                                             \n",
       "A1         13.250914  11.831226  0.029397  16123.123343   27.020130   \n",
       "A2         14.187992  11.577715  0.045887  16236.045782   32.839780   \n",
       "A3         14.868537  11.416415  0.072050  17474.444024   37.732240   \n",
       "A4         14.985299  11.138324  0.086009  16836.475078   41.900229   \n",
       "A5         15.469165  11.357660  0.112868  17516.595325   45.450802   \n",
       "B1         16.003890  11.225472  0.154989  16187.574184   47.847558   \n",
       "B2         16.342273  11.200934  0.157324  16178.109669   51.095361   \n",
       "B3         16.655627  11.104858  0.163872  15620.334909   53.067648   \n",
       "B4         16.949962  11.163587  0.175853  15642.381782   54.456730   \n",
       "B5         17.183492  11.036541  0.209373  14786.809826   55.158967   \n",
       "C1         17.473380  11.131139  0.200110  15292.155819   56.225164   \n",
       "C2         18.132696  11.145040  0.205004  15374.610540   57.116614   \n",
       "C3         17.887510  11.312379  0.219924  15537.047123   56.913604   \n",
       "C4         18.305717  11.403008  0.212623  15745.885947   58.100877   \n",
       "C5         18.492009  11.341537  0.225005  15691.900351   58.307484   \n",
       "D1         18.624124  11.307885  0.224286  14876.086538   59.694338   \n",
       "D2         18.784896  11.248369  0.206293  14992.623038   60.170312   \n",
       "D3         18.733687  11.190951  0.219504  14802.937249   59.663653   \n",
       "D4         18.889252  11.344342  0.209231  15467.723771   60.696010   \n",
       "D5         18.962174  11.511546  0.205155  15900.611340   60.411082   \n",
       "E1         19.347603  11.604396  0.214223  16104.563976   60.385315   \n",
       "E2         19.230770  11.502490  0.208451  16024.007267   60.762433   \n",
       "E3         19.768080  11.667956  0.201063  16686.650395   61.396693   \n",
       "E4         19.618610  11.711994  0.208170  16846.140645   61.490446   \n",
       "E5         19.593830  11.830927  0.185914  17223.605643   61.923381   \n",
       "F1         19.430413  11.809672  0.212104  16996.521493   62.078347   \n",
       "F2         19.718659  11.796095  0.216197  16132.204989   61.790438   \n",
       "F3         19.329519  11.495188  0.195101  15834.960192   62.693377   \n",
       "F4         19.187650  11.683268  0.209849  15547.640739   61.841704   \n",
       "F5         19.714753  12.072298  0.198998  16590.738010   62.353009   \n",
       "G1         18.952155  11.925331  0.228733  16467.150284   61.158979   \n",
       "G2         19.611326  12.294430  0.217507  16102.258621   61.835106   \n",
       "G3         18.989167  11.947464  0.286232  16578.201087   62.181522   \n",
       "G4         19.493289  12.681818  0.165775  18343.117647   61.845013   \n",
       "G5         19.589335  12.104430  0.221519  19630.962025   63.115605   \n",
       "\n",
       "           total_acc  mort_acc  pub_rec_bankruptcies  \n",
       "sub_grade                                             \n",
       "A1         27.920341  2.504562              0.016977  \n",
       "A2         27.067942  2.295992              0.028613  \n",
       "A3         26.739126  2.323727              0.044402  \n",
       "A4         26.101843  2.146973              0.058469  \n",
       "A5         26.368347  2.156024              0.079018  \n",
       "B1         25.898290  2.022317              0.115226  \n",
       "B2         25.590754  1.957020              0.115474  \n",
       "B3         25.081748  1.798991              0.118056  \n",
       "B4         25.212765  1.790609              0.125714  \n",
       "B5         24.811094  1.676822              0.143168  \n",
       "C1         24.872411  1.695292              0.137662  \n",
       "C2         24.916785  1.707838              0.139102  \n",
       "C3         25.131002  1.737759              0.148358  \n",
       "C4         25.217406  1.722605              0.144162  \n",
       "C5         25.190693  1.759564              0.155492  \n",
       "D1         24.757581  1.598437              0.150398  \n",
       "D2         24.503405  1.557430              0.138869  \n",
       "D3         24.442281  1.570477              0.141640  \n",
       "D4         24.973235  1.642864              0.136621  \n",
       "D5         25.196804  1.648967              0.132198  \n",
       "E1         25.585954  1.697604              0.145512  \n",
       "E2         25.438568  1.714411              0.134312  \n",
       "E3         25.656195  1.671170              0.136847  \n",
       "E4         25.777280  1.690717              0.131255  \n",
       "E5         25.771654  1.651074              0.124097  \n",
       "F1         25.830317  1.727864              0.140108  \n",
       "F2         26.023138  1.697030              0.141253  \n",
       "F3         25.220035  1.622650              0.130092  \n",
       "F4         25.365976  1.613260              0.129412  \n",
       "F5         26.335719  1.647059              0.130372  \n",
       "G1         25.698488  1.726042              0.129612  \n",
       "G2         25.928382  1.564399              0.132626  \n",
       "G3         25.528986  1.746562              0.166667  \n",
       "G4         26.943850  1.854545              0.109626  \n",
       "G5         25.895570  1.575972              0.155556  "
      ]
     },
     "execution_count": 17,
     "metadata": {},
     "output_type": "execute_result"
    }
   ],
   "source": [
    "df.groupby('sub_grade').mean()"
   ]
  },
  {
   "cell_type": "code",
   "execution_count": 18,
   "metadata": {},
   "outputs": [
    {
     "name": "stdout",
     "output_type": "stream",
     "text": [
      "<class 'pandas.core.frame.DataFrame'>\n",
      "RangeIndex: 396030 entries, 0 to 396029\n",
      "Data columns (total 27 columns):\n",
      "loan_amnt               396030 non-null float64\n",
      "term                    396030 non-null object\n",
      "int_rate                396030 non-null float64\n",
      "installment             396030 non-null float64\n",
      "grade                   396030 non-null object\n",
      "sub_grade               396030 non-null object\n",
      "emp_title               373103 non-null object\n",
      "emp_length              377729 non-null object\n",
      "home_ownership          396030 non-null object\n",
      "annual_inc              396030 non-null float64\n",
      "verification_status     396030 non-null object\n",
      "issue_d                 396030 non-null object\n",
      "loan_status             396030 non-null int64\n",
      "purpose                 396030 non-null object\n",
      "title                   394275 non-null object\n",
      "dti                     396030 non-null float64\n",
      "earliest_cr_line        396030 non-null object\n",
      "open_acc                396030 non-null float64\n",
      "pub_rec                 396030 non-null float64\n",
      "revol_bal               396030 non-null float64\n",
      "revol_util              395754 non-null float64\n",
      "total_acc               396030 non-null float64\n",
      "initial_list_status     396030 non-null object\n",
      "application_type        396030 non-null object\n",
      "mort_acc                358235 non-null float64\n",
      "pub_rec_bankruptcies    395495 non-null float64\n",
      "address                 396030 non-null object\n",
      "dtypes: float64(12), int64(1), object(14)\n",
      "memory usage: 81.6+ MB\n"
     ]
    }
   ],
   "source": [
    "df.info()"
   ]
  },
  {
   "cell_type": "code",
   "execution_count": 21,
   "metadata": {},
   "outputs": [],
   "source": [
    "df = df.drop('title', axis=1)"
   ]
  },
  {
   "cell_type": "code",
   "execution_count": 24,
   "metadata": {},
   "outputs": [],
   "source": [
    "df = df.drop('emp_title', axis=1)"
   ]
  },
  {
   "cell_type": "code",
   "execution_count": 26,
   "metadata": {},
   "outputs": [],
   "source": [
    "df['zipcode'] = df['address'].apply(lambda address: address[-5:])"
   ]
  },
  {
   "cell_type": "code",
   "execution_count": 29,
   "metadata": {},
   "outputs": [],
   "source": [
    "df = df.drop('address', axis=1)"
   ]
  },
  {
   "cell_type": "code",
   "execution_count": 32,
   "metadata": {},
   "outputs": [
    {
     "data": {
      "text/plain": [
       "<matplotlib.axes._subplots.AxesSubplot at 0x7f903cb11350>"
      ]
     },
     "execution_count": 32,
     "metadata": {},
     "output_type": "execute_result"
    },
    {
     "data": {
      "image/png": "[encoded data removed]",
      "text/plain": [
       "<Figure size 2160x1440 with 1 Axes>"
      ]
     },
     "metadata": {
      "needs_background": "light"
     },
     "output_type": "display_data"
    }
   ],
   "source": [
    "df['zipcode'] = df['zipcode'].astype('int')\n",
    "plt.figure(figsize=(30, 20))\n",
    "sns.countplot(x='zipcode', data=df, hue='loan_status')"
   ]
  },
  {
   "cell_type": "code",
   "execution_count": 33,
   "metadata": {},
   "outputs": [
    {
     "data": {
      "text/plain": [
       "<matplotlib.axes._subplots.AxesSubplot at 0x7f903c813810>"
      ]
     },
     "execution_count": 33,
     "metadata": {},
     "output_type": "execute_result"
    },
    {
     "data": {
      "image/png": "[encoded data removed]",
      "text/plain": [
       "<Figure size 2160x1440 with 1 Axes>"
      ]
     },
     "metadata": {
      "needs_background": "light"
     },
     "output_type": "display_data"
    }
   ],
   "source": [
    "plt.figure(figsize=(30, 20))\n",
    "sns.countplot(x='purpose', data=df, hue='loan_status')"
   ]
  },
  {
   "cell_type": "code",
   "execution_count": 34,
   "metadata": {},
   "outputs": [],
   "source": [
    "df = df.drop('purpose', axis=1)"
   ]
  },
  {
   "cell_type": "code",
   "execution_count": 36,
   "metadata": {},
   "outputs": [],
   "source": [
    "df = df.dropna()"
   ]
  },
  {
   "cell_type": "code",
   "execution_count": 37,
   "metadata": {},
   "outputs": [
    {
     "data": {
      "text/plain": [
       "loan_amnt               0\n",
       "term                    0\n",
       "int_rate                0\n",
       "installment             0\n",
       "grade                   0\n",
       "sub_grade               0\n",
       "emp_length              0\n",
       "home_ownership          0\n",
       "annual_inc              0\n",
       "verification_status     0\n",
       "issue_d                 0\n",
       "loan_status             0\n",
       "dti                     0\n",
       "earliest_cr_line        0\n",
       "open_acc                0\n",
       "pub_rec                 0\n",
       "revol_bal               0\n",
       "revol_util              0\n",
       "total_acc               0\n",
       "initial_list_status     0\n",
       "application_type        0\n",
       "mort_acc                0\n",
       "pub_rec_bankruptcies    0\n",
       "zipcode                 0\n",
       "dtype: int64"
      ]
     },
     "execution_count": 37,
     "metadata": {},
     "output_type": "execute_result"
    }
   ],
   "source": [
    "df.isnull().sum()"
   ]
  },
  {
   "cell_type": "code",
   "execution_count": 38,
   "metadata": {},
   "outputs": [
    {
     "data": {
      "text/plain": [
       "340775"
      ]
     },
     "execution_count": 38,
     "metadata": {},
     "output_type": "execute_result"
    }
   ],
   "source": [
    "len(df)"
   ]
  },
  {
   "cell_type": "code",
   "execution_count": 40,
   "metadata": {},
   "outputs": [
    {
     "data": {
      "text/plain": [
       "loan_amnt               0\n",
       "term                    0\n",
       "int_rate                0\n",
       "installment             0\n",
       "grade                   0\n",
       "sub_grade               0\n",
       "emp_length              0\n",
       "home_ownership          0\n",
       "annual_inc              0\n",
       "verification_status     0\n",
       "issue_d                 0\n",
       "loan_status             0\n",
       "dti                     0\n",
       "earliest_cr_line        0\n",
       "open_acc                0\n",
       "pub_rec                 0\n",
       "revol_bal               0\n",
       "revol_util              0\n",
       "total_acc               0\n",
       "initial_list_status     0\n",
       "application_type        0\n",
       "mort_acc                0\n",
       "pub_rec_bankruptcies    0\n",
       "zipcode                 0\n",
       "dtype: int64"
      ]
     },
     "execution_count": 40,
     "metadata": {},
     "output_type": "execute_result"
    }
   ],
   "source": [
    "df.isna().sum()"
   ]
  },
  {
   "cell_type": "code",
   "execution_count": 41,
   "metadata": {},
   "outputs": [],
   "source": [
    "df = df.drop('grade', axis=1)"
   ]
  },
  {
   "cell_type": "code",
   "execution_count": 42,
   "metadata": {},
   "outputs": [
    {
     "data": {
      "text/plain": [
       "<matplotlib.axes._subplots.AxesSubplot at 0x7f9035537610>"
      ]
     },
     "execution_count": 42,
     "metadata": {},
     "output_type": "execute_result"
    },
    {
     "data": {
      "image/png": "[encoded data removed]",
      "text/plain": [
       "<Figure size 432x288 with 1 Axes>"
      ]
     },
     "metadata": {
      "needs_background": "light"
     },
     "output_type": "display_data"
    }
   ],
   "source": [
    "sns.countplot(x='term', data=df)"
   ]
  },
  {
   "cell_type": "code",
   "execution_count": null,
   "metadata": {},
   "outputs": [],
   "source": [
    "sns.boxplot(x='loan_status', y='loan_amnt', data=df, hue='term')"
   ]
  },
  {
   "cell_type": "code",
   "execution_count": 44,
   "metadata": {},
   "outputs": [],
   "source": [
    "df['term'] = df['term'].apply(lambda term: int(term[:3]))"
   ]
  },
  {
   "cell_type": "code",
   "execution_count": 45,
   "metadata": {},
   "outputs": [
    {
     "data": {
      "text/plain": [
       "36    258774\n",
       "60     82001\n",
       "Name: term, dtype: int64"
      ]
     },
     "execution_count": 45,
     "metadata": {},
     "output_type": "execute_result"
    }
   ],
   "source": [
    "df['term'].value_counts()"
   ]
  },
  {
   "cell_type": "code",
   "execution_count": 46,
   "metadata": {},
   "outputs": [
    {
     "data": {
      "text/plain": [
       "<matplotlib.axes._subplots.AxesSubplot at 0x7f90354e8550>"
      ]
     },
     "execution_count": 46,
     "metadata": {},
     "output_type": "execute_result"
    },
    {
     "data": {
      "image/png": "[encoded data removed]",
      "text/plain": [
       "<Figure size 432x288 with 1 Axes>"
      ]
     },
     "metadata": {
      "needs_background": "light"
     },
     "output_type": "display_data"
    }
   ],
   "source": [
    "sns.countplot(x='loan_status', data=df)"
   ]
  },
  {
   "cell_type": "code",
   "execution_count": 48,
   "metadata": {},
   "outputs": [],
   "source": [
    "dummies = pd.get_dummies(df['sub_grade'],drop_first=True)\n",
    "df = pd.concat([df.drop('sub_grade', axis=1), dummies], axis=1)"
   ]
  },
  {
   "cell_type": "code",
   "execution_count": 50,
   "metadata": {},
   "outputs": [],
   "source": [
    "dummies = pd.get_dummies(df['verification_status'],drop_first=True)\n",
    "df = pd.concat([df.drop('verification_status', axis=1), dummies], axis=1)"
   ]
  },
  {
   "cell_type": "code",
   "execution_count": 51,
   "metadata": {},
   "outputs": [],
   "source": [
    "df['home_ownership'] = df['home_ownership'].replace(['NONE', 'ANY'], 'OTHER')"
   ]
  },
  {
   "cell_type": "code",
   "execution_count": 52,
   "metadata": {},
   "outputs": [],
   "source": [
    "dummies = pd.get_dummies(df['home_ownership'],drop_first=True)\n",
    "df = pd.concat([df.drop('home_ownership', axis=1), dummies], axis=1)"
   ]
  },
  {
   "cell_type": "code",
   "execution_count": 53,
   "metadata": {},
   "outputs": [],
   "source": [
    "dummies = pd.get_dummies(df['zipcode'],drop_first=True)\n",
    "df = pd.concat([df.drop('zipcode', axis=1), dummies], axis=1)"
   ]
  },
  {
   "cell_type": "code",
   "execution_count": 54,
   "metadata": {},
   "outputs": [],
   "source": [
    "df = df.drop('issue_d', axis=1)"
   ]
  },
  {
   "cell_type": "code",
   "execution_count": 55,
   "metadata": {},
   "outputs": [
    {
     "data": {
      "text/plain": [
       "0         Jun-1990\n",
       "1         Jul-2004\n",
       "2         Aug-2007\n",
       "3         Sep-2006\n",
       "4         Mar-1999\n",
       "            ...   \n",
       "396024    Nov-1991\n",
       "396025    Nov-2004\n",
       "396026    Feb-2006\n",
       "396027    Mar-1997\n",
       "396028    Nov-1990\n",
       "Name: earliest_cr_line, Length: 340775, dtype: object"
      ]
     },
     "execution_count": 55,
     "metadata": {},
     "output_type": "execute_result"
    }
   ],
   "source": [
    "df['earliest_cr_line']"
   ]
  },
  {
   "cell_type": "code",
   "execution_count": 56,
   "metadata": {},
   "outputs": [],
   "source": [
    "df['earliest_cr_line'] = pd.to_datetime(df['earliest_cr_line'])"
   ]
  },
  {
   "cell_type": "code",
   "execution_count": 57,
   "metadata": {},
   "outputs": [],
   "source": [
    "df['earliest_cr_line'] = df['earliest_cr_line'].apply(lambda earliest_cr_line: earliest_cr_line.year)"
   ]
  },
  {
   "cell_type": "code",
   "execution_count": 58,
   "metadata": {},
   "outputs": [
    {
     "data": {
      "text/html": [
       "<div>\n",
       "<style scoped>\n",
       "    .dataframe tbody tr th:only-of-type {\n",
       "        vertical-align: middle;\n",
       "    }\n",
       "\n",
       "    .dataframe tbody tr th {\n",
       "        vertical-align: top;\n",
       "    }\n",
       "\n",
       "    .dataframe thead th {\n",
       "        text-align: right;\n",
       "    }\n",
       "</style>\n",
       "<table border=\"1\" class=\"dataframe\">\n",
       "  <thead>\n",
       "    <tr style=\"text-align: right;\">\n",
       "      <th></th>\n",
       "      <th>loan_amnt</th>\n",
       "      <th>term</th>\n",
       "      <th>int_rate</th>\n",
       "      <th>installment</th>\n",
       "      <th>emp_length</th>\n",
       "      <th>annual_inc</th>\n",
       "      <th>loan_status</th>\n",
       "      <th>dti</th>\n",
       "      <th>earliest_cr_line</th>\n",
       "      <th>open_acc</th>\n",
       "      <th>...</th>\n",
       "      <th>RENT</th>\n",
       "      <th>5113</th>\n",
       "      <th>11650</th>\n",
       "      <th>22690</th>\n",
       "      <th>29597</th>\n",
       "      <th>30723</th>\n",
       "      <th>48052</th>\n",
       "      <th>70466</th>\n",
       "      <th>86630</th>\n",
       "      <th>93700</th>\n",
       "    </tr>\n",
       "  </thead>\n",
       "  <tbody>\n",
       "    <tr>\n",
       "      <th>0</th>\n",
       "      <td>10000.0</td>\n",
       "      <td>36</td>\n",
       "      <td>11.44</td>\n",
       "      <td>329.48</td>\n",
       "      <td>10+ years</td>\n",
       "      <td>117000.0</td>\n",
       "      <td>1</td>\n",
       "      <td>26.24</td>\n",
       "      <td>1990</td>\n",
       "      <td>16.0</td>\n",
       "      <td>...</td>\n",
       "      <td>1</td>\n",
       "      <td>0</td>\n",
       "      <td>0</td>\n",
       "      <td>1</td>\n",
       "      <td>0</td>\n",
       "      <td>0</td>\n",
       "      <td>0</td>\n",
       "      <td>0</td>\n",
       "      <td>0</td>\n",
       "      <td>0</td>\n",
       "    </tr>\n",
       "    <tr>\n",
       "      <th>1</th>\n",
       "      <td>8000.0</td>\n",
       "      <td>36</td>\n",
       "      <td>11.99</td>\n",
       "      <td>265.68</td>\n",
       "      <td>4 years</td>\n",
       "      <td>65000.0</td>\n",
       "      <td>1</td>\n",
       "      <td>22.05</td>\n",
       "      <td>2004</td>\n",
       "      <td>17.0</td>\n",
       "      <td>...</td>\n",
       "      <td>0</td>\n",
       "      <td>1</td>\n",
       "      <td>0</td>\n",
       "      <td>0</td>\n",
       "      <td>0</td>\n",
       "      <td>0</td>\n",
       "      <td>0</td>\n",
       "      <td>0</td>\n",
       "      <td>0</td>\n",
       "      <td>0</td>\n",
       "    </tr>\n",
       "    <tr>\n",
       "      <th>2</th>\n",
       "      <td>15600.0</td>\n",
       "      <td>36</td>\n",
       "      <td>10.49</td>\n",
       "      <td>506.97</td>\n",
       "      <td>&lt; 1 year</td>\n",
       "      <td>43057.0</td>\n",
       "      <td>1</td>\n",
       "      <td>12.79</td>\n",
       "      <td>2007</td>\n",
       "      <td>13.0</td>\n",
       "      <td>...</td>\n",
       "      <td>1</td>\n",
       "      <td>1</td>\n",
       "      <td>0</td>\n",
       "      <td>0</td>\n",
       "      <td>0</td>\n",
       "      <td>0</td>\n",
       "      <td>0</td>\n",
       "      <td>0</td>\n",
       "      <td>0</td>\n",
       "      <td>0</td>\n",
       "    </tr>\n",
       "    <tr>\n",
       "      <th>3</th>\n",
       "      <td>7200.0</td>\n",
       "      <td>36</td>\n",
       "      <td>6.49</td>\n",
       "      <td>220.65</td>\n",
       "      <td>6 years</td>\n",
       "      <td>54000.0</td>\n",
       "      <td>1</td>\n",
       "      <td>2.60</td>\n",
       "      <td>2006</td>\n",
       "      <td>6.0</td>\n",
       "      <td>...</td>\n",
       "      <td>1</td>\n",
       "      <td>0</td>\n",
       "      <td>0</td>\n",
       "      <td>0</td>\n",
       "      <td>0</td>\n",
       "      <td>0</td>\n",
       "      <td>0</td>\n",
       "      <td>0</td>\n",
       "      <td>0</td>\n",
       "      <td>0</td>\n",
       "    </tr>\n",
       "    <tr>\n",
       "      <th>4</th>\n",
       "      <td>24375.0</td>\n",
       "      <td>60</td>\n",
       "      <td>17.27</td>\n",
       "      <td>609.33</td>\n",
       "      <td>9 years</td>\n",
       "      <td>55000.0</td>\n",
       "      <td>0</td>\n",
       "      <td>33.95</td>\n",
       "      <td>1999</td>\n",
       "      <td>13.0</td>\n",
       "      <td>...</td>\n",
       "      <td>0</td>\n",
       "      <td>0</td>\n",
       "      <td>1</td>\n",
       "      <td>0</td>\n",
       "      <td>0</td>\n",
       "      <td>0</td>\n",
       "      <td>0</td>\n",
       "      <td>0</td>\n",
       "      <td>0</td>\n",
       "      <td>0</td>\n",
       "    </tr>\n",
       "  </tbody>\n",
       "</table>\n",
       "<p>5 rows × 66 columns</p>\n",
       "</div>"
      ],
      "text/plain": [
       "   loan_amnt  term  int_rate  installment emp_length  annual_inc  loan_status  \\\n",
       "0    10000.0    36     11.44       329.48  10+ years    117000.0            1   \n",
       "1     8000.0    36     11.99       265.68    4 years     65000.0            1   \n",
       "2    15600.0    36     10.49       506.97   < 1 year     43057.0            1   \n",
       "3     7200.0    36      6.49       220.65    6 years     54000.0            1   \n",
       "4    24375.0    60     17.27       609.33    9 years     55000.0            0   \n",
       "\n",
       "     dti  earliest_cr_line  open_acc  ...  RENT  5113  11650  22690 29597  \\\n",
       "0  26.24              1990      16.0  ...     1     0      0      1     0   \n",
       "1  22.05              2004      17.0  ...     0     1      0      0     0   \n",
       "2  12.79              2007      13.0  ...     1     1      0      0     0   \n",
       "3   2.60              2006       6.0  ...     1     0      0      0     0   \n",
       "4  33.95              1999      13.0  ...     0     0      1      0     0   \n",
       "\n",
       "  30723  48052  70466  86630  93700  \n",
       "0     0      0      0      0      0  \n",
       "1     0      0      0      0      0  \n",
       "2     0      0      0      0      0  \n",
       "3     0      0      0      0      0  \n",
       "4     0      0      0      0      0  \n",
       "\n",
       "[5 rows x 66 columns]"
      ]
     },
     "execution_count": 58,
     "metadata": {},
     "output_type": "execute_result"
    }
   ],
   "source": [
    "df.head()"
   ]
  },
  {
   "cell_type": "code",
   "execution_count": null,
   "metadata": {},
   "outputs": [],
   "source": [
    "df.info()"
   ]
  },
  {
   "cell_type": "code",
   "execution_count": 60,
   "metadata": {},
   "outputs": [
    {
     "data": {
      "text/plain": [
       "Index([           'loan_amnt',                 'term',             'int_rate',\n",
       "                'installment',           'emp_length',           'annual_inc',\n",
       "                'loan_status',                  'dti',     'earliest_cr_line',\n",
       "                   'open_acc',              'pub_rec',            'revol_bal',\n",
       "                 'revol_util',            'total_acc',  'initial_list_status',\n",
       "           'application_type',             'mort_acc', 'pub_rec_bankruptcies',\n",
       "                         'A2',                   'A3',                   'A4',\n",
       "                         'A5',                   'B1',                   'B2',\n",
       "                         'B3',                   'B4',                   'B5',\n",
       "                         'C1',                   'C2',                   'C3',\n",
       "                         'C4',                   'C5',                   'D1',\n",
       "                         'D2',                   'D3',                   'D4',\n",
       "                         'D5',                   'E1',                   'E2',\n",
       "                         'E3',                   'E4',                   'E5',\n",
       "                         'F1',                   'F2',                   'F3',\n",
       "                         'F4',                   'F5',                   'G1',\n",
       "                         'G2',                   'G3',                   'G4',\n",
       "                         'G5',      'Source Verified',             'Verified',\n",
       "                      'OTHER',                  'OWN',                 'RENT',\n",
       "                         5113,                  11650,                  22690,\n",
       "                        29597,                  30723,                  48052,\n",
       "                        70466,                  86630,                  93700],\n",
       "      dtype='object')"
      ]
     },
     "execution_count": 60,
     "metadata": {},
     "output_type": "execute_result"
    }
   ],
   "source": [
    "df.columns"
   ]
  },
  {
   "cell_type": "code",
   "execution_count": 61,
   "metadata": {},
   "outputs": [],
   "source": [
    "dummies = pd.get_dummies(df['application_type'],drop_first=True)\n",
    "df = pd.concat([df.drop('application_type', axis=1), dummies], axis=1)"
   ]
  },
  {
   "cell_type": "code",
   "execution_count": 63,
   "metadata": {},
   "outputs": [
    {
     "data": {
      "text/plain": [
       "67"
      ]
     },
     "execution_count": 63,
     "metadata": {},
     "output_type": "execute_result"
    }
   ],
   "source": [
    "len(df.columns)"
   ]
  },
  {
   "cell_type": "code",
   "execution_count": 65,
   "metadata": {},
   "outputs": [
    {
     "name": "stdout",
     "output_type": "stream",
     "text": [
      "<class 'pandas.core.frame.DataFrame'>\n",
      "Int64Index: 340775 entries, 0 to 396028\n",
      "Data columns (total 67 columns):\n",
      "loan_amnt               340775 non-null float64\n",
      "term                    340775 non-null int64\n",
      "int_rate                340775 non-null float64\n",
      "installment             340775 non-null float64\n",
      "emp_length              340775 non-null object\n",
      "annual_inc              340775 non-null float64\n",
      "loan_status             340775 non-null int64\n",
      "dti                     340775 non-null float64\n",
      "earliest_cr_line        340775 non-null int64\n",
      "open_acc                340775 non-null float64\n",
      "pub_rec                 340775 non-null float64\n",
      "revol_bal               340775 non-null float64\n",
      "revol_util              340775 non-null float64\n",
      "total_acc               340775 non-null float64\n",
      "initial_list_status     340775 non-null object\n",
      "mort_acc                340775 non-null float64\n",
      "pub_rec_bankruptcies    340775 non-null float64\n",
      "A2                      340775 non-null uint8\n",
      "A3                      340775 non-null uint8\n",
      "A4                      340775 non-null uint8\n",
      "A5                      340775 non-null uint8\n",
      "B1                      340775 non-null uint8\n",
      "B2                      340775 non-null uint8\n",
      "B3                      340775 non-null uint8\n",
      "B4                      340775 non-null uint8\n",
      "B5                      340775 non-null uint8\n",
      "C1                      340775 non-null uint8\n",
      "C2                      340775 non-null uint8\n",
      "C3                      340775 non-null uint8\n",
      "C4                      340775 non-null uint8\n",
      "C5                      340775 non-null uint8\n",
      "D1                      340775 non-null uint8\n",
      "D2                      340775 non-null uint8\n",
      "D3                      340775 non-null uint8\n",
      "D4                      340775 non-null uint8\n",
      "D5                      340775 non-null uint8\n",
      "E1                      340775 non-null uint8\n",
      "E2                      340775 non-null uint8\n",
      "E3                      340775 non-null uint8\n",
      "E4                      340775 non-null uint8\n",
      "E5                      340775 non-null uint8\n",
      "F1                      340775 non-null uint8\n",
      "F2                      340775 non-null uint8\n",
      "F3                      340775 non-null uint8\n",
      "F4                      340775 non-null uint8\n",
      "F5                      340775 non-null uint8\n",
      "G1                      340775 non-null uint8\n",
      "G2                      340775 non-null uint8\n",
      "G3                      340775 non-null uint8\n",
      "G4                      340775 non-null uint8\n",
      "G5                      340775 non-null uint8\n",
      "Source Verified         340775 non-null uint8\n",
      "Verified                340775 non-null uint8\n",
      "OTHER                   340775 non-null uint8\n",
      "OWN                     340775 non-null uint8\n",
      "RENT                    340775 non-null uint8\n",
      "5113                    340775 non-null uint8\n",
      "11650                   340775 non-null uint8\n",
      "22690                   340775 non-null uint8\n",
      "29597                   340775 non-null uint8\n",
      "30723                   340775 non-null uint8\n",
      "48052                   340775 non-null uint8\n",
      "70466                   340775 non-null uint8\n",
      "86630                   340775 non-null uint8\n",
      "93700                   340775 non-null uint8\n",
      "INDIVIDUAL              340775 non-null uint8\n",
      "JOINT                   340775 non-null uint8\n",
      "dtypes: float64(12), int64(3), object(2), uint8(50)\n",
      "memory usage: 73.0+ MB\n"
     ]
    }
   ],
   "source": [
    "df.info()"
   ]
  },
  {
   "cell_type": "code",
   "execution_count": 67,
   "metadata": {},
   "outputs": [],
   "source": [
    "df = df.drop('emp_length', axis=1)"
   ]
  },
  {
   "cell_type": "code",
   "execution_count": 66,
   "metadata": {},
   "outputs": [
    {
     "data": {
      "text/plain": [
       "Index(['emp_length', 'initial_list_status'], dtype='object')"
      ]
     },
     "execution_count": 66,
     "metadata": {},
     "output_type": "execute_result"
    }
   ],
   "source": [
    "df.select_dtypes(['object']).columns"
   ]
  },
  {
   "cell_type": "code",
   "execution_count": 68,
   "metadata": {},
   "outputs": [],
   "source": [
    "dummies = pd.get_dummies(df['initial_list_status'],drop_first=True)\n",
    "df = pd.concat([df.drop('initial_list_status', axis=1), dummies], axis=1)"
   ]
  },
  {
   "cell_type": "code",
   "execution_count": 72,
   "metadata": {},
   "outputs": [
    {
     "data": {
      "text/plain": [
       "0         1990\n",
       "1         2004\n",
       "2         2007\n",
       "3         2006\n",
       "4         1999\n",
       "          ... \n",
       "396024    1991\n",
       "396025    2004\n",
       "396026    2006\n",
       "396027    1997\n",
       "396028    1990\n",
       "Name: earliest_cr_line, Length: 340775, dtype: int64"
      ]
     },
     "execution_count": 72,
     "metadata": {},
     "output_type": "execute_result"
    }
   ],
   "source": [
    "df['earliest_cr_line']"
   ]
  },
  {
   "cell_type": "code",
   "execution_count": 73,
   "metadata": {},
   "outputs": [
    {
     "data": {
      "text/plain": [
       "0         1\n",
       "1         1\n",
       "2         1\n",
       "3         1\n",
       "4         0\n",
       "         ..\n",
       "396024    1\n",
       "396025    1\n",
       "396026    1\n",
       "396027    1\n",
       "396028    1\n",
       "Name: loan_status, Length: 340775, dtype: int64"
      ]
     },
     "execution_count": 73,
     "metadata": {},
     "output_type": "execute_result"
    }
   ],
   "source": [
    "df['loan_status']"
   ]
  },
  {
   "cell_type": "code",
   "execution_count": 74,
   "metadata": {},
   "outputs": [],
   "source": [
    "X = df.drop('loan_status', axis=1).values\n",
    "y = df['loan_status'].values"
   ]
  },
  {
   "cell_type": "code",
   "execution_count": 75,
   "metadata": {},
   "outputs": [],
   "source": [
    "from sklearn.model_selection import train_test_split\n",
    "X_train, X_test, y_train, y_test = train_test_split(X, y, test_size=0.2, random_state=101)"
   ]
  },
  {
   "cell_type": "code",
   "execution_count": 76,
   "metadata": {},
   "outputs": [],
   "source": [
    "from sklearn.preprocessing import MinMaxScaler"
   ]
  },
  {
   "cell_type": "code",
   "execution_count": 77,
   "metadata": {},
   "outputs": [],
   "source": [
    "scaler = MinMaxScaler()"
   ]
  },
  {
   "cell_type": "code",
   "execution_count": 78,
   "metadata": {},
   "outputs": [],
   "source": [
    "X_train = scaler.fit_transform(X_train)"
   ]
  },
  {
   "cell_type": "code",
   "execution_count": 79,
   "metadata": {},
   "outputs": [],
   "source": [
    "X_test = scaler.transform(X_test)"
   ]
  },
  {
   "cell_type": "code",
   "execution_count": 80,
   "metadata": {},
   "outputs": [],
   "source": [
    "from tensorflow.keras.layers import Dense, Dropout\n",
    "from tensorflow.keras.models import Sequential"
   ]
  },
  {
   "cell_type": "code",
   "execution_count": 81,
   "metadata": {},
   "outputs": [
    {
     "data": {
      "text/plain": [
       "(272620, 65)"
      ]
     },
     "execution_count": 81,
     "metadata": {},
     "output_type": "execute_result"
    }
   ],
   "source": [
    "X_train.shape"
   ]
  },
  {
   "cell_type": "code",
   "execution_count": 112,
   "metadata": {},
   "outputs": [],
   "source": [
    "model = Sequential()\n",
    "\n",
    "model.add(Dense(65, activation='relu'))\n",
    "model.add(Dropout(0.2))\n",
    "model.add(Dense(32, activation='relu'))\n",
    "model.add(Dropout(0.2))\n",
    "model.add(Dense(1, activation='sigmoid'))\n",
    "\n",
    "model.compile(loss='binary_crossentropy', optimizer='adam')\n"
   ]
  },
  {
   "cell_type": "code",
   "execution_count": 113,
   "metadata": {},
   "outputs": [],
   "source": [
    "from tensorflow.keras.callbacks import EarlyStopping"
   ]
  },
  {
   "cell_type": "code",
   "execution_count": 114,
   "metadata": {},
   "outputs": [],
   "source": [
    "early_stop = EarlyStopping(monitor='val_loss', mode='min', verbose=1, patience=5)"
   ]
  },
  {
   "cell_type": "code",
   "execution_count": 115,
   "metadata": {},
   "outputs": [
    {
     "name": "stdout",
     "output_type": "stream",
     "text": [
      "Train on 272620 samples, validate on 68155 samples\n",
      "Epoch 1/50\n",
      "272620/272620 [==============================] - 2s 7us/sample - loss: 0.3000 - val_loss: 0.2605\n",
      "Epoch 2/50\n",
      "272620/272620 [==============================] - 1s 5us/sample - loss: 0.2661 - val_loss: 0.2584\n",
      "Epoch 3/50\n",
      "272620/272620 [==============================] - 1s 5us/sample - loss: 0.2628 - val_loss: 0.2575\n",
      "Epoch 4/50\n",
      "272620/272620 [==============================] - 1s 5us/sample - loss: 0.2612 - val_loss: 0.2566\n",
      "Epoch 5/50\n",
      "272620/272620 [==============================] - 2s 6us/sample - loss: 0.2602 - val_loss: 0.2566\n",
      "Epoch 6/50\n",
      "272620/272620 [==============================] - 2s 6us/sample - loss: 0.2598 - val_loss: 0.2559\n",
      "Epoch 7/50\n",
      "272620/272620 [==============================] - 2s 6us/sample - loss: 0.2592 - val_loss: 0.2562\n",
      "Epoch 8/50\n",
      "272620/272620 [==============================] - 1s 5us/sample - loss: 0.2588 - val_loss: 0.2553\n",
      "Epoch 9/50\n",
      "272620/272620 [==============================] - 1s 5us/sample - loss: 0.2584 - val_loss: 0.2560\n",
      "Epoch 10/50\n",
      "272620/272620 [==============================] - 1s 5us/sample - loss: 0.2582 - val_loss: 0.2553\n",
      "Epoch 11/50\n",
      "272620/272620 [==============================] - 2s 6us/sample - loss: 0.2577 - val_loss: 0.2561\n",
      "Epoch 12/50\n",
      "272620/272620 [==============================] - 2s 6us/sample - loss: 0.2577 - val_loss: 0.2552\n",
      "Epoch 13/50\n",
      "272620/272620 [==============================] - 2s 6us/sample - loss: 0.2574 - val_loss: 0.2551\n",
      "Epoch 14/50\n",
      "272620/272620 [==============================] - 2s 6us/sample - loss: 0.2571 - val_loss: 0.2558\n",
      "Epoch 15/50\n",
      "272620/272620 [==============================] - 1s 5us/sample - loss: 0.2570 - val_loss: 0.2553\n",
      "Epoch 16/50\n",
      "272620/272620 [==============================] - 2s 6us/sample - loss: 0.2569 - val_loss: 0.2560\n",
      "Epoch 17/50\n",
      "272620/272620 [==============================] - 2s 6us/sample - loss: 0.2568 - val_loss: 0.2549\n",
      "Epoch 18/50\n",
      "272620/272620 [==============================] - 2s 6us/sample - loss: 0.2566 - val_loss: 0.2552\n",
      "Epoch 19/50\n",
      "272620/272620 [==============================] - 1s 5us/sample - loss: 0.2566 - val_loss: 0.2552\n",
      "Epoch 20/50\n",
      "272620/272620 [==============================] - 2s 6us/sample - loss: 0.2564 - val_loss: 0.2554\n",
      "Epoch 21/50\n",
      "272620/272620 [==============================] - 2s 6us/sample - loss: 0.2564 - val_loss: 0.2551\n",
      "Epoch 22/50\n",
      "272620/272620 [==============================] - 1s 5us/sample - loss: 0.2564 - val_loss: 0.2553\n",
      "Epoch 00022: early stopping\n"
     ]
    },
    {
     "data": {
      "text/plain": [
       "<tensorflow.python.keras.callbacks.History at 0x7f8fa4492510>"
      ]
     },
     "execution_count": 115,
     "metadata": {},
     "output_type": "execute_result"
    }
   ],
   "source": [
    "model.fit(x=X_train, y=y_train, epochs=50, batch_size = 256, validation_data=(X_test, y_test), callbacks=[early_stop])"
   ]
  },
  {
   "cell_type": "code",
   "execution_count": 116,
   "metadata": {},
   "outputs": [
    {
     "data": {
      "text/plain": [
       "<matplotlib.axes._subplots.AxesSubplot at 0x7f8f7bde31d0>"
      ]
     },
     "execution_count": 116,
     "metadata": {},
     "output_type": "execute_result"
    },
    {
     "data": {
      "image/png": "[encoded data removed]",
      "text/plain": [
       "<Figure size 432x288 with 1 Axes>"
      ]
     },
     "metadata": {
      "needs_background": "light"
     },
     "output_type": "display_data"
    }
   ],
   "source": [
    "model_loss = pd.DataFrame(model.history.history)\n",
    "model_loss.plot()"
   ]
  },
  {
   "cell_type": "code",
   "execution_count": 117,
   "metadata": {},
   "outputs": [],
   "source": [
    "predictions = model.predict_classes(X_test)"
   ]
  },
  {
   "cell_type": "code",
   "execution_count": 118,
   "metadata": {},
   "outputs": [],
   "source": [
    "from sklearn.metrics import classification_report, confusion_matrix"
   ]
  },
  {
   "cell_type": "code",
   "execution_count": 119,
   "metadata": {},
   "outputs": [
    {
     "name": "stdout",
     "output_type": "stream",
     "text": [
      "              precision    recall  f1-score   support\n",
      "\n",
      "           0       0.97      0.46      0.62     13430\n",
      "           1       0.88      1.00      0.94     54725\n",
      "\n",
      "    accuracy                           0.89     68155\n",
      "   macro avg       0.93      0.73      0.78     68155\n",
      "weighted avg       0.90      0.89      0.87     68155\n",
      "\n"
     ]
    }
   ],
   "source": [
    "print(classification_report(y_test, predictions))"
   ]
  },
  {
   "cell_type": "code",
   "execution_count": 120,
   "metadata": {},
   "outputs": [
    {
     "name": "stdout",
     "output_type": "stream",
     "text": [
      "[[ 6134  7296]\n",
      " [  180 54545]]\n"
     ]
    }
   ],
   "source": [
    "print(confusion_matrix(y_test, predictions))"
   ]
  },
  {
   "cell_type": "code",
   "execution_count": 121,
   "metadata": {},
   "outputs": [
    {
     "data": {
      "text/plain": [
       "loan_amnt       22350.00\n",
       "term               36.00\n",
       "int_rate            7.90\n",
       "installment       699.34\n",
       "annual_inc     144423.00\n",
       "                 ...    \n",
       "86630               0.00\n",
       "93700               0.00\n",
       "INDIVIDUAL          1.00\n",
       "JOINT               0.00\n",
       "w                   0.00\n",
       "Name: 354150, Length: 65, dtype: float64"
      ]
     },
     "execution_count": 121,
     "metadata": {},
     "output_type": "execute_result"
    }
   ],
   "source": [
    "import random\n",
    "random.seed(101)\n",
    "random_ind = random.randint(0,len(df))\n",
    "\n",
    "new_customer = df.drop('loan_status',axis=1).iloc[random_ind]\n",
    "new_customer"
   ]
  },
  {
   "cell_type": "code",
   "execution_count": 122,
   "metadata": {},
   "outputs": [],
   "source": [
    "new_customer = new_customer.values.reshape((1, 65))"
   ]
  },
  {
   "cell_type": "code",
   "execution_count": 123,
   "metadata": {},
   "outputs": [
    {
     "data": {
      "text/plain": [
       "array([[1]], dtype=int32)"
      ]
     },
     "execution_count": 123,
     "metadata": {},
     "output_type": "execute_result"
    }
   ],
   "source": [
    "model.predict_classes(new_customer)"
   ]
  },
  {
   "cell_type": "code",
   "execution_count": 124,
   "metadata": {},
   "outputs": [
    {
     "data": {
      "text/plain": [
       "(272620, 65)"
      ]
     },
     "execution_count": 124,
     "metadata": {},
     "output_type": "execute_result"
    }
   ],
   "source": [
    "X_train.shape"
   ]
  },
  {
   "cell_type": "code",
   "execution_count": 125,
   "metadata": {},
   "outputs": [
    {
     "data": {
      "text/plain": [
       "(54725, 61841)"
      ]
     },
     "execution_count": 125,
     "metadata": {},
     "output_type": "execute_result"
    }
   ],
   "source": [
    "y_test.sum(), predictions.sum()"
   ]
  },
  {
   "cell_type": "code",
   "execution_count": null,
   "metadata": {},
   "outputs": [],
   "source": []
  }
 ],
 "metadata": {
  "kernelspec": {
   "display_name": "Python 3.7.5 ('tflowenv')",
   "language": "python",
   "name": "python3"
  },
  "language_info": {
   "codemirror_mode": {
    "name": "ipython",
    "version": 3
   },
   "file_extension": ".py",
   "mimetype": "text/x-python",
   "name": "python",
   "nbconvert_exporter": "python",
   "pygments_lexer": "ipython3",
   "version": "3.7.5"
  },
  "orig_nbformat": 4,
  "vscode": {
   "interpreter": {
    "hash": "e24e999a1fc37cefe424319ce349520d7e52470a0811dcb2ffde3866ed124dff"
   }
  }
 },
 "nbformat": 4,
 "nbformat_minor": 2
}
